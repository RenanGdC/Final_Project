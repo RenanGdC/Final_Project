{
 "cells": [
  {
   "cell_type": "code",
   "execution_count": 2,
   "id": "7ed00733",
   "metadata": {},
   "outputs": [],
   "source": [
    "import pandas as pd\n",
    "import numpy as np"
   ]
  },
  {
   "cell_type": "code",
   "execution_count": 6,
   "id": "2e86d989",
   "metadata": {},
   "outputs": [],
   "source": [
    "#reading data set\n",
    "data = pd.read_csv('../Data_bases/ndtv_data_final.csv')"
   ]
  },
  {
   "cell_type": "code",
   "execution_count": 7,
   "id": "daa32bb5",
   "metadata": {},
   "outputs": [
    {
     "data": {
      "text/html": [
       "<div>\n",
       "<style scoped>\n",
       "    .dataframe tbody tr th:only-of-type {\n",
       "        vertical-align: middle;\n",
       "    }\n",
       "\n",
       "    .dataframe tbody tr th {\n",
       "        vertical-align: top;\n",
       "    }\n",
       "\n",
       "    .dataframe thead th {\n",
       "        text-align: right;\n",
       "    }\n",
       "</style>\n",
       "<table border=\"1\" class=\"dataframe\">\n",
       "  <thead>\n",
       "    <tr style=\"text-align: right;\">\n",
       "      <th></th>\n",
       "      <th>Unnamed: 0</th>\n",
       "      <th>Name</th>\n",
       "      <th>Brand</th>\n",
       "      <th>Model</th>\n",
       "      <th>Battery capacity (mAh)</th>\n",
       "      <th>Screen size (inches)</th>\n",
       "      <th>Touchscreen</th>\n",
       "      <th>Resolution x</th>\n",
       "      <th>Resolution y</th>\n",
       "      <th>Processor</th>\n",
       "      <th>...</th>\n",
       "      <th>Rear camera</th>\n",
       "      <th>Front camera</th>\n",
       "      <th>Operating system</th>\n",
       "      <th>Wi-Fi</th>\n",
       "      <th>Bluetooth</th>\n",
       "      <th>GPS</th>\n",
       "      <th>Number of SIMs</th>\n",
       "      <th>3G</th>\n",
       "      <th>4G/ LTE</th>\n",
       "      <th>Price</th>\n",
       "    </tr>\n",
       "  </thead>\n",
       "  <tbody>\n",
       "    <tr>\n",
       "      <th>0</th>\n",
       "      <td>0</td>\n",
       "      <td>OnePlus 7T Pro McLaren Edition</td>\n",
       "      <td>OnePlus</td>\n",
       "      <td>7T Pro McLaren Edition</td>\n",
       "      <td>4085</td>\n",
       "      <td>6.67</td>\n",
       "      <td>Yes</td>\n",
       "      <td>1440</td>\n",
       "      <td>3120</td>\n",
       "      <td>8</td>\n",
       "      <td>...</td>\n",
       "      <td>48.0</td>\n",
       "      <td>16.0</td>\n",
       "      <td>Android</td>\n",
       "      <td>Yes</td>\n",
       "      <td>Yes</td>\n",
       "      <td>Yes</td>\n",
       "      <td>2</td>\n",
       "      <td>Yes</td>\n",
       "      <td>Yes</td>\n",
       "      <td>58998</td>\n",
       "    </tr>\n",
       "    <tr>\n",
       "      <th>1</th>\n",
       "      <td>1</td>\n",
       "      <td>Realme X2 Pro</td>\n",
       "      <td>Realme</td>\n",
       "      <td>X2 Pro</td>\n",
       "      <td>4000</td>\n",
       "      <td>6.50</td>\n",
       "      <td>Yes</td>\n",
       "      <td>1080</td>\n",
       "      <td>2400</td>\n",
       "      <td>8</td>\n",
       "      <td>...</td>\n",
       "      <td>64.0</td>\n",
       "      <td>16.0</td>\n",
       "      <td>Android</td>\n",
       "      <td>Yes</td>\n",
       "      <td>Yes</td>\n",
       "      <td>Yes</td>\n",
       "      <td>2</td>\n",
       "      <td>Yes</td>\n",
       "      <td>Yes</td>\n",
       "      <td>27999</td>\n",
       "    </tr>\n",
       "    <tr>\n",
       "      <th>2</th>\n",
       "      <td>2</td>\n",
       "      <td>iPhone 11 Pro Max</td>\n",
       "      <td>Apple</td>\n",
       "      <td>iPhone 11 Pro Max</td>\n",
       "      <td>3969</td>\n",
       "      <td>6.50</td>\n",
       "      <td>Yes</td>\n",
       "      <td>1242</td>\n",
       "      <td>2688</td>\n",
       "      <td>6</td>\n",
       "      <td>...</td>\n",
       "      <td>12.0</td>\n",
       "      <td>12.0</td>\n",
       "      <td>iOS</td>\n",
       "      <td>Yes</td>\n",
       "      <td>Yes</td>\n",
       "      <td>Yes</td>\n",
       "      <td>2</td>\n",
       "      <td>Yes</td>\n",
       "      <td>Yes</td>\n",
       "      <td>106900</td>\n",
       "    </tr>\n",
       "    <tr>\n",
       "      <th>3</th>\n",
       "      <td>3</td>\n",
       "      <td>iPhone 11</td>\n",
       "      <td>Apple</td>\n",
       "      <td>iPhone 11</td>\n",
       "      <td>3110</td>\n",
       "      <td>6.10</td>\n",
       "      <td>Yes</td>\n",
       "      <td>828</td>\n",
       "      <td>1792</td>\n",
       "      <td>6</td>\n",
       "      <td>...</td>\n",
       "      <td>12.0</td>\n",
       "      <td>12.0</td>\n",
       "      <td>iOS</td>\n",
       "      <td>Yes</td>\n",
       "      <td>Yes</td>\n",
       "      <td>Yes</td>\n",
       "      <td>2</td>\n",
       "      <td>Yes</td>\n",
       "      <td>Yes</td>\n",
       "      <td>62900</td>\n",
       "    </tr>\n",
       "    <tr>\n",
       "      <th>4</th>\n",
       "      <td>4</td>\n",
       "      <td>LG G8X ThinQ</td>\n",
       "      <td>LG</td>\n",
       "      <td>G8X ThinQ</td>\n",
       "      <td>4000</td>\n",
       "      <td>6.40</td>\n",
       "      <td>Yes</td>\n",
       "      <td>1080</td>\n",
       "      <td>2340</td>\n",
       "      <td>8</td>\n",
       "      <td>...</td>\n",
       "      <td>12.0</td>\n",
       "      <td>32.0</td>\n",
       "      <td>Android</td>\n",
       "      <td>Yes</td>\n",
       "      <td>Yes</td>\n",
       "      <td>Yes</td>\n",
       "      <td>1</td>\n",
       "      <td>No</td>\n",
       "      <td>No</td>\n",
       "      <td>49990</td>\n",
       "    </tr>\n",
       "  </tbody>\n",
       "</table>\n",
       "<p>5 rows × 22 columns</p>\n",
       "</div>"
      ],
      "text/plain": [
       "   Unnamed: 0                            Name    Brand  \\\n",
       "0           0  OnePlus 7T Pro McLaren Edition  OnePlus   \n",
       "1           1                   Realme X2 Pro   Realme   \n",
       "2           2               iPhone 11 Pro Max    Apple   \n",
       "3           3                       iPhone 11    Apple   \n",
       "4           4                    LG G8X ThinQ       LG   \n",
       "\n",
       "                    Model  Battery capacity (mAh)  Screen size (inches)  \\\n",
       "0  7T Pro McLaren Edition                    4085                  6.67   \n",
       "1                  X2 Pro                    4000                  6.50   \n",
       "2       iPhone 11 Pro Max                    3969                  6.50   \n",
       "3               iPhone 11                    3110                  6.10   \n",
       "4               G8X ThinQ                    4000                  6.40   \n",
       "\n",
       "  Touchscreen  Resolution x  Resolution y  Processor  ...  Rear camera  \\\n",
       "0         Yes          1440          3120          8  ...         48.0   \n",
       "1         Yes          1080          2400          8  ...         64.0   \n",
       "2         Yes          1242          2688          6  ...         12.0   \n",
       "3         Yes           828          1792          6  ...         12.0   \n",
       "4         Yes          1080          2340          8  ...         12.0   \n",
       "\n",
       "   Front camera  Operating system  Wi-Fi Bluetooth  GPS Number of SIMs   3G  \\\n",
       "0          16.0           Android    Yes       Yes  Yes              2  Yes   \n",
       "1          16.0           Android    Yes       Yes  Yes              2  Yes   \n",
       "2          12.0               iOS    Yes       Yes  Yes              2  Yes   \n",
       "3          12.0               iOS    Yes       Yes  Yes              2  Yes   \n",
       "4          32.0           Android    Yes       Yes  Yes              1   No   \n",
       "\n",
       "   4G/ LTE   Price  \n",
       "0      Yes   58998  \n",
       "1      Yes   27999  \n",
       "2      Yes  106900  \n",
       "3      Yes   62900  \n",
       "4       No   49990  \n",
       "\n",
       "[5 rows x 22 columns]"
      ]
     },
     "execution_count": 7,
     "metadata": {},
     "output_type": "execute_result"
    }
   ],
   "source": [
    "data.head()"
   ]
  },
  {
   "cell_type": "code",
   "execution_count": 8,
   "id": "792a833f",
   "metadata": {},
   "outputs": [],
   "source": [
    "#dropping second index\n",
    "data = data.drop('Unnamed: 0', axis=1)"
   ]
  },
  {
   "cell_type": "code",
   "execution_count": 9,
   "id": "b814e641",
   "metadata": {},
   "outputs": [
    {
     "data": {
      "text/html": [
       "<div>\n",
       "<style scoped>\n",
       "    .dataframe tbody tr th:only-of-type {\n",
       "        vertical-align: middle;\n",
       "    }\n",
       "\n",
       "    .dataframe tbody tr th {\n",
       "        vertical-align: top;\n",
       "    }\n",
       "\n",
       "    .dataframe thead th {\n",
       "        text-align: right;\n",
       "    }\n",
       "</style>\n",
       "<table border=\"1\" class=\"dataframe\">\n",
       "  <thead>\n",
       "    <tr style=\"text-align: right;\">\n",
       "      <th></th>\n",
       "      <th>name</th>\n",
       "      <th>brand</th>\n",
       "      <th>model</th>\n",
       "      <th>battery_capacity_(mah)</th>\n",
       "      <th>screen_size_(inches)</th>\n",
       "      <th>touchscreen</th>\n",
       "      <th>resolution_x</th>\n",
       "      <th>resolution_y</th>\n",
       "      <th>processor</th>\n",
       "      <th>ram_(mb)</th>\n",
       "      <th>...</th>\n",
       "      <th>rear_camera</th>\n",
       "      <th>front_camera</th>\n",
       "      <th>operating_system</th>\n",
       "      <th>wi-fi</th>\n",
       "      <th>bluetooth</th>\n",
       "      <th>gps</th>\n",
       "      <th>number_of_sims</th>\n",
       "      <th>3g</th>\n",
       "      <th>4g/_lte</th>\n",
       "      <th>price</th>\n",
       "    </tr>\n",
       "  </thead>\n",
       "  <tbody>\n",
       "    <tr>\n",
       "      <th>0</th>\n",
       "      <td>OnePlus 7T Pro McLaren Edition</td>\n",
       "      <td>OnePlus</td>\n",
       "      <td>7T Pro McLaren Edition</td>\n",
       "      <td>4085</td>\n",
       "      <td>6.67</td>\n",
       "      <td>Yes</td>\n",
       "      <td>1440</td>\n",
       "      <td>3120</td>\n",
       "      <td>8</td>\n",
       "      <td>12000</td>\n",
       "      <td>...</td>\n",
       "      <td>48.0</td>\n",
       "      <td>16.0</td>\n",
       "      <td>Android</td>\n",
       "      <td>Yes</td>\n",
       "      <td>Yes</td>\n",
       "      <td>Yes</td>\n",
       "      <td>2</td>\n",
       "      <td>Yes</td>\n",
       "      <td>Yes</td>\n",
       "      <td>58998</td>\n",
       "    </tr>\n",
       "    <tr>\n",
       "      <th>1</th>\n",
       "      <td>Realme X2 Pro</td>\n",
       "      <td>Realme</td>\n",
       "      <td>X2 Pro</td>\n",
       "      <td>4000</td>\n",
       "      <td>6.50</td>\n",
       "      <td>Yes</td>\n",
       "      <td>1080</td>\n",
       "      <td>2400</td>\n",
       "      <td>8</td>\n",
       "      <td>6000</td>\n",
       "      <td>...</td>\n",
       "      <td>64.0</td>\n",
       "      <td>16.0</td>\n",
       "      <td>Android</td>\n",
       "      <td>Yes</td>\n",
       "      <td>Yes</td>\n",
       "      <td>Yes</td>\n",
       "      <td>2</td>\n",
       "      <td>Yes</td>\n",
       "      <td>Yes</td>\n",
       "      <td>27999</td>\n",
       "    </tr>\n",
       "    <tr>\n",
       "      <th>2</th>\n",
       "      <td>iPhone 11 Pro Max</td>\n",
       "      <td>Apple</td>\n",
       "      <td>iPhone 11 Pro Max</td>\n",
       "      <td>3969</td>\n",
       "      <td>6.50</td>\n",
       "      <td>Yes</td>\n",
       "      <td>1242</td>\n",
       "      <td>2688</td>\n",
       "      <td>6</td>\n",
       "      <td>4000</td>\n",
       "      <td>...</td>\n",
       "      <td>12.0</td>\n",
       "      <td>12.0</td>\n",
       "      <td>iOS</td>\n",
       "      <td>Yes</td>\n",
       "      <td>Yes</td>\n",
       "      <td>Yes</td>\n",
       "      <td>2</td>\n",
       "      <td>Yes</td>\n",
       "      <td>Yes</td>\n",
       "      <td>106900</td>\n",
       "    </tr>\n",
       "    <tr>\n",
       "      <th>3</th>\n",
       "      <td>iPhone 11</td>\n",
       "      <td>Apple</td>\n",
       "      <td>iPhone 11</td>\n",
       "      <td>3110</td>\n",
       "      <td>6.10</td>\n",
       "      <td>Yes</td>\n",
       "      <td>828</td>\n",
       "      <td>1792</td>\n",
       "      <td>6</td>\n",
       "      <td>4000</td>\n",
       "      <td>...</td>\n",
       "      <td>12.0</td>\n",
       "      <td>12.0</td>\n",
       "      <td>iOS</td>\n",
       "      <td>Yes</td>\n",
       "      <td>Yes</td>\n",
       "      <td>Yes</td>\n",
       "      <td>2</td>\n",
       "      <td>Yes</td>\n",
       "      <td>Yes</td>\n",
       "      <td>62900</td>\n",
       "    </tr>\n",
       "    <tr>\n",
       "      <th>4</th>\n",
       "      <td>LG G8X ThinQ</td>\n",
       "      <td>LG</td>\n",
       "      <td>G8X ThinQ</td>\n",
       "      <td>4000</td>\n",
       "      <td>6.40</td>\n",
       "      <td>Yes</td>\n",
       "      <td>1080</td>\n",
       "      <td>2340</td>\n",
       "      <td>8</td>\n",
       "      <td>6000</td>\n",
       "      <td>...</td>\n",
       "      <td>12.0</td>\n",
       "      <td>32.0</td>\n",
       "      <td>Android</td>\n",
       "      <td>Yes</td>\n",
       "      <td>Yes</td>\n",
       "      <td>Yes</td>\n",
       "      <td>1</td>\n",
       "      <td>No</td>\n",
       "      <td>No</td>\n",
       "      <td>49990</td>\n",
       "    </tr>\n",
       "  </tbody>\n",
       "</table>\n",
       "<p>5 rows × 21 columns</p>\n",
       "</div>"
      ],
      "text/plain": [
       "                             name    brand                   model  \\\n",
       "0  OnePlus 7T Pro McLaren Edition  OnePlus  7T Pro McLaren Edition   \n",
       "1                   Realme X2 Pro   Realme                  X2 Pro   \n",
       "2               iPhone 11 Pro Max    Apple       iPhone 11 Pro Max   \n",
       "3                       iPhone 11    Apple               iPhone 11   \n",
       "4                    LG G8X ThinQ       LG               G8X ThinQ   \n",
       "\n",
       "   battery_capacity_(mah)  screen_size_(inches) touchscreen  resolution_x  \\\n",
       "0                    4085                  6.67         Yes          1440   \n",
       "1                    4000                  6.50         Yes          1080   \n",
       "2                    3969                  6.50         Yes          1242   \n",
       "3                    3110                  6.10         Yes           828   \n",
       "4                    4000                  6.40         Yes          1080   \n",
       "\n",
       "   resolution_y  processor  ram_(mb)  ...  rear_camera  front_camera  \\\n",
       "0          3120          8     12000  ...         48.0          16.0   \n",
       "1          2400          8      6000  ...         64.0          16.0   \n",
       "2          2688          6      4000  ...         12.0          12.0   \n",
       "3          1792          6      4000  ...         12.0          12.0   \n",
       "4          2340          8      6000  ...         12.0          32.0   \n",
       "\n",
       "   operating_system wi-fi bluetooth  gps number_of_sims   3g 4g/_lte   price  \n",
       "0           Android   Yes       Yes  Yes              2  Yes     Yes   58998  \n",
       "1           Android   Yes       Yes  Yes              2  Yes     Yes   27999  \n",
       "2               iOS   Yes       Yes  Yes              2  Yes     Yes  106900  \n",
       "3               iOS   Yes       Yes  Yes              2  Yes     Yes   62900  \n",
       "4           Android   Yes       Yes  Yes              1   No      No   49990  \n",
       "\n",
       "[5 rows x 21 columns]"
      ]
     },
     "execution_count": 9,
     "metadata": {},
     "output_type": "execute_result"
    }
   ],
   "source": [
    "cols = [] \n",
    "for col in data.columns: \n",
    "    cols.append(col.lower().replace(' ', '_')) \n",
    "data.columns = cols\n",
    "\n",
    "data.head()"
   ]
  },
  {
   "cell_type": "code",
   "execution_count": 10,
   "id": "e1f630f2",
   "metadata": {},
   "outputs": [
    {
     "name": "stdout",
     "output_type": "stream",
     "text": [
      "<class 'pandas.core.frame.DataFrame'>\n",
      "RangeIndex: 1359 entries, 0 to 1358\n",
      "Data columns (total 21 columns):\n",
      " #   Column                  Non-Null Count  Dtype  \n",
      "---  ------                  --------------  -----  \n",
      " 0   name                    1359 non-null   object \n",
      " 1   brand                   1359 non-null   object \n",
      " 2   model                   1359 non-null   object \n",
      " 3   battery_capacity_(mah)  1359 non-null   int64  \n",
      " 4   screen_size_(inches)    1359 non-null   float64\n",
      " 5   touchscreen             1359 non-null   object \n",
      " 6   resolution_x            1359 non-null   int64  \n",
      " 7   resolution_y            1359 non-null   int64  \n",
      " 8   processor               1359 non-null   int64  \n",
      " 9   ram_(mb)                1359 non-null   int64  \n",
      " 10  internal_storage_(gb)   1359 non-null   float64\n",
      " 11  rear_camera             1359 non-null   float64\n",
      " 12  front_camera            1359 non-null   float64\n",
      " 13  operating_system        1359 non-null   object \n",
      " 14  wi-fi                   1359 non-null   object \n",
      " 15  bluetooth               1359 non-null   object \n",
      " 16  gps                     1359 non-null   object \n",
      " 17  number_of_sims          1359 non-null   int64  \n",
      " 18  3g                      1359 non-null   object \n",
      " 19  4g/_lte                 1359 non-null   object \n",
      " 20  price                   1359 non-null   int64  \n",
      "dtypes: float64(4), int64(7), object(10)\n",
      "memory usage: 223.1+ KB\n"
     ]
    }
   ],
   "source": [
    "data.info()"
   ]
  },
  {
   "cell_type": "code",
   "execution_count": 11,
   "id": "c7123d33",
   "metadata": {},
   "outputs": [],
   "source": [
    "#droping names column since it is only the concatenation of the model and brand\n",
    "data = data.drop('name', axis=1)"
   ]
  },
  {
   "cell_type": "markdown",
   "id": "a8a0c472",
   "metadata": {},
   "source": [
    "Checking the unique values of each important column:"
   ]
  },
  {
   "cell_type": "code",
   "execution_count": 12,
   "id": "ac8f29e3",
   "metadata": {},
   "outputs": [
    {
     "data": {
      "text/plain": [
       "array(['OnePlus', 'Realme', 'Apple', 'LG', 'Samsung', 'Asus', 'Xiaomi',\n",
       "       'Oppo', 'Huawei', 'Google', 'Nokia', 'HTC', 'Motorola', 'Honor',\n",
       "       'Yu', 'Poco', 'Vivo', 'Nubia', 'Black Shark', 'Infinix', 'Lenovo',\n",
       "       'Sony', 'Jio', 'Coolpad', 'Micromax', 'Smartron', 'LeEco',\n",
       "       'BlackBerry', 'Gionee', 'Meizu', 'Panasonic', 'Tecno', 'InFocus',\n",
       "       'Itel', '10.or', 'Lava', 'Cat', 'Lyf', 'Intex', 'Xolo', 'Acer',\n",
       "       'Phicomm', 'Karbonn', 'Spice', 'iVoomi', 'Kult', 'Nuu Mobile',\n",
       "       'Ziox', 'Zopo', 'ZTE', 'Onida', 'Microsoft', 'iBall', 'Mobiistar',\n",
       "       'Comio', 'Videocon', 'Alcatel', 'Reach', 'Zen', 'Tambo', 'Razer',\n",
       "       'Homtom', 'Lephone', 'Aqua', 'Celkon', 'Jivi', 'Billion', 'Swipe',\n",
       "       'M-tech', 'Sansui', 'Zuk', 'TCL', 'mPhone', 'Blu', 'HP', 'Philips'],\n",
       "      dtype=object)"
      ]
     },
     "execution_count": 12,
     "metadata": {},
     "output_type": "execute_result"
    }
   ],
   "source": [
    "data['brand'].unique()"
   ]
  },
  {
   "cell_type": "code",
   "execution_count": 13,
   "id": "635df346",
   "metadata": {},
   "outputs": [
    {
     "data": {
      "text/plain": [
       "array([4085, 4000, 3969, 3110, 3800, 4300, 6000, 3765, 4065, 4045, 4200,\n",
       "       3300, 3700, 2942, 2658, 3430, 2915, 3000, 5000, 3500, 3930, 1821,\n",
       "       2691, 2716, 2730, 3090, 3400, 3450, 2900, 1960, 3600, 3760, 2750,\n",
       "       2500, 3050, 2550, 3100, 4500, 4100, 4035, 4030, 4020, 3550, 3060,\n",
       "       3260, 3750, 3730, 3410, 3200, 4350, 3340, 3080, 2700, 3520, 2000,\n",
       "       5300, 4060, 3230, 3120, 3510, 2600, 2800, 4850, 1624, 4050, 2150,\n",
       "       1715, 4900, 2420, 3630, 2470, 3900, 3220, 2400, 1810, 2300, 2070,\n",
       "       1507, 2200, 2330, 2100, 4230, 3010, 3180, 3030, 3020, 3225, 4010,\n",
       "       4550, 3055, 5100, 3150, 3075, 2610, 2850, 5020, 2230, 2390, 1900,\n",
       "       1700, 1860, 1920, 2140, 1980, 2410, 2250, 2350, 1500, 1010, 2180,\n",
       "       1320, 2370, 1350, 1300, 1650, 1800, 4070, 3250, 2680, 2620, 2630,\n",
       "       3130, 2720, 2650, 2930, 1400, 2840, 1950, 2515, 2050, 2540, 1430,\n",
       "       3140, 2880, 1200, 1540, 1450, 4120, 3950, 3046, 4380, 3315, 3285,\n",
       "       2990, 3360, 3580, 1600, 2670, 1750, 2210, 2450, 1050, 1850, 3650,\n",
       "       2770, 2920, 4150, 2520, 1550, 2580, 2125, 2910, 2260, 2820, 1250])"
      ]
     },
     "execution_count": 13,
     "metadata": {},
     "output_type": "execute_result"
    }
   ],
   "source": [
    "data['battery_capacity_(mah)'].unique()"
   ]
  },
  {
   "cell_type": "code",
   "execution_count": 14,
   "id": "607735ce",
   "metadata": {},
   "outputs": [
    {
     "data": {
      "text/plain": [
       "array([6.67, 6.5 , 6.1 , 6.4 , 6.55, 6.8 , 6.59, 6.39, 6.53, 6.6 , 6.3 ,\n",
       "       6.47, 6.41, 5.8 , 5.5 , 6.  , 5.99, 6.28, 6.2 , 4.7 , 5.3 , 5.7 ,\n",
       "       5.2 , 5.15, 5.1 , 5.4 , 6.52, 6.7 , 6.44, 6.65, 6.38, 6.08, 6.26,\n",
       "       5.6 , 6.21, 6.18, 5.84, 5.86, 6.42, 6.23, 5.65, 5.98, 6.01, 5.9 ,\n",
       "       5.  , 2.4 , 4.  , 5.96, 4.5 , 4.6 , 4.3 , 4.95, 4.8 , 6.35, 6.22,\n",
       "       6.19, 5.45, 5.93, 4.93, 3.  , 3.1 , 3.5 , 2.6 , 3.8 , 4.2 , 5.71,\n",
       "       5.47, 4.69, 2.8 , 3.7 , 3.2 , 2.44, 6.9 , 6.09, 7.3 , 5.72, 5.67,\n",
       "       5.34, 2.45, 7.  ])"
      ]
     },
     "execution_count": 14,
     "metadata": {},
     "output_type": "execute_result"
    }
   ],
   "source": [
    "data['screen_size_(inches)'].unique()"
   ]
  },
  {
   "cell_type": "code",
   "execution_count": 15,
   "id": "34d178b9",
   "metadata": {},
   "outputs": [
    {
     "data": {
      "text/plain": [
       "array(['Yes', 'No'], dtype=object)"
      ]
     },
     "execution_count": 15,
     "metadata": {},
     "output_type": "execute_result"
    }
   ],
   "source": [
    "data['touchscreen'].unique()"
   ]
  },
  {
   "cell_type": "code",
   "execution_count": 16,
   "id": "f3bd78eb",
   "metadata": {},
   "outputs": [
    {
     "data": {
      "text/plain": [
       "array([1440, 1080, 1242,  828, 1125,  750,  720,  240, 2160,  640, 1600,\n",
       "        768, 1520,  540,  480, 1280,  850,  560,  360,  600, 1176,  400,\n",
       "       1536, 1880,  854,  800, 1024,  320])"
      ]
     },
     "execution_count": 16,
     "metadata": {},
     "output_type": "execute_result"
    }
   ],
   "source": [
    "data['resolution_x'].unique()"
   ]
  },
  {
   "cell_type": "code",
   "execution_count": 17,
   "id": "96350e4b",
   "metadata": {},
   "outputs": [
    {
     "data": {
      "text/plain": [
       "array([3120, 2400, 2688, 1792, 2340, 3040, 2436, 2960, 2160, 2240, 2280,\n",
       "       2246, 2560, 1334, 1920, 2880, 1280, 1600, 1560, 2520, 2248, 1520,\n",
       "       2310, 2220, 2244, 2316, 1440,  320, 3840, 1136, 1544, 1500,  720,\n",
       "       1620, 1480, 1080,  960,  854,  800,  480, 3200, 2636, 1548, 2152,\n",
       "       2270, 1580, 1498, 1290,  640, 1820,  584,  600,  485])"
      ]
     },
     "execution_count": 17,
     "metadata": {},
     "output_type": "execute_result"
    }
   ],
   "source": [
    "data['resolution_y'].unique()"
   ]
  },
  {
   "cell_type": "code",
   "execution_count": 18,
   "id": "3debd610",
   "metadata": {},
   "outputs": [
    {
     "data": {
      "text/plain": [
       "array([ 8,  6,  1,  4, 10,  2])"
      ]
     },
     "execution_count": 18,
     "metadata": {},
     "output_type": "execute_result"
    }
   ],
   "source": [
    "data['processor'].unique()"
   ]
  },
  {
   "cell_type": "code",
   "execution_count": 19,
   "id": "ae3eb942",
   "metadata": {},
   "outputs": [
    {
     "data": {
      "text/plain": [
       "array([12000,  6000,  4000,  8000,  3000,  2000,   512,  1000,    64,\n",
       "         384,   289,   256,   768])"
      ]
     },
     "execution_count": 19,
     "metadata": {},
     "output_type": "execute_result"
    }
   ],
   "source": [
    "data['ram_(mb)'].unique()"
   ]
  },
  {
   "cell_type": "code",
   "execution_count": 20,
   "id": "faa9caaf",
   "metadata": {},
   "outputs": [
    {
     "data": {
      "text/plain": [
       "array([2.56e+02, 6.40e+01, 1.28e+02, 3.20e+01, 1.60e+01, 8.00e+00,\n",
       "       4.00e+00, 6.40e-02, 1.60e-01, 3.00e+00, 1.28e-01, 5.12e-01,\n",
       "       5.12e+02, 2.00e+00, 1.00e+00])"
      ]
     },
     "execution_count": 20,
     "metadata": {},
     "output_type": "execute_result"
    }
   ],
   "source": [
    "data['internal_storage_(gb)'].unique()"
   ]
  },
  {
   "cell_type": "code",
   "execution_count": 21,
   "id": "90e93e3f",
   "metadata": {},
   "outputs": [
    {
     "data": {
      "text/plain": [
       "array([ 48. ,  64. ,  12. ,  16. ,  40. ,  12.2,  13. ,  12.3,  23. ,\n",
       "        21. ,  32. ,  24. ,  20. ,  19. ,   2. ,  18. ,   8. ,  20.7,\n",
       "         5. ,  10. ,  13.1,   8.7,   3. ,  41. ,   3.2, 108. ,  25. ,\n",
       "         0. ,  21.5,   0.3,  15. ,  13.2])"
      ]
     },
     "execution_count": 21,
     "metadata": {},
     "output_type": "execute_result"
    }
   ],
   "source": [
    "data['rear_camera'].unique()"
   ]
  },
  {
   "cell_type": "code",
   "execution_count": 22,
   "id": "cbf05d3d",
   "metadata": {},
   "outputs": [
    {
     "data": {
      "text/plain": [
       "array([16. , 12. , 32. , 10. , 24. , 20. , 25. , 13. ,  8. ,  7. ,  5. ,\n",
       "        4. , 48. ,  0.3,  1.2,  2. ,  2.2,  3.7,  1.9,  1.3,  2.1,  2.4,\n",
       "        0.9,  1.6,  0. ,  3. ,  1.1,  1.5,  3.2, 40. ])"
      ]
     },
     "execution_count": 22,
     "metadata": {},
     "output_type": "execute_result"
    }
   ],
   "source": [
    "data['front_camera'].unique()"
   ]
  },
  {
   "cell_type": "code",
   "execution_count": 23,
   "id": "08843f1e",
   "metadata": {},
   "outputs": [
    {
     "data": {
      "text/plain": [
       "array(['Android', 'iOS', 'Cyanogen', 'BlackBerry', 'Windows', 'Tizen',\n",
       "       'Sailfish'], dtype=object)"
      ]
     },
     "execution_count": 23,
     "metadata": {},
     "output_type": "execute_result"
    }
   ],
   "source": [
    "data['operating_system'].unique()"
   ]
  },
  {
   "cell_type": "code",
   "execution_count": 24,
   "id": "03de8b45",
   "metadata": {},
   "outputs": [
    {
     "data": {
      "text/plain": [
       "array([2, 1, 3])"
      ]
     },
     "execution_count": 24,
     "metadata": {},
     "output_type": "execute_result"
    }
   ],
   "source": [
    "data['number_of_sims'].unique()"
   ]
  },
  {
   "cell_type": "code",
   "execution_count": 25,
   "id": "75f33a2f",
   "metadata": {},
   "outputs": [
    {
     "data": {
      "text/plain": [
       "array([ 58998,  27999, 106900,  62900,  49990,  34930,  52990,  79699,\n",
       "        37999,  23190,  23990,  14999,  19282,  39995,  36990,  13999,\n",
       "        54280,   9799,  63990,  29999,  31999,  45499,  69999,  59999,\n",
       "        47990,  56999,   9990,  34999,  18999,   9349,  12000,  26999,\n",
       "        49999,  36999,  47000,  20999,  53990,  14994,  30000,  26994,\n",
       "        19999,  16999,  30990,  20246,  22999,  44999,  24999,  39996,\n",
       "        23999,   6994,  42998,  25990,   5995,   7299,  25999,   3999,\n",
       "         7999,   6999,  15999,  39999,   8999,  38999,  21150,  10990,\n",
       "         9999,  26220,  47999,  12999,  15990,  23100,  15377,  16650,\n",
       "        11999,   8600,  12990,  11845,  16879,   8649,  13690,  35999,\n",
       "        11990,  22299,  39990,  17973,   9699,   7332,   9499,  25120,\n",
       "        30999,  18000,  22000,  11900,  11770,  16490,   9580,  14990,\n",
       "        21299,  59090,  18011,  10299,   8990,  16990,  18990,  18290,\n",
       "         8849,  15899,  15900,  10499,  28499,   6990,  34990,  12994,\n",
       "         9994,  12500,   8500,   6499,   8699,   1249,   9890,   5990,\n",
       "        17499,  17586,  13990,  33500,  10900,  15500,  54665,  11499,\n",
       "        15995,   8000,   5490,   5999,   8499,   7499,   7790,  10999,\n",
       "        19990,   6899,  30149,  17999,   7990,  13299,  26499,  25500,\n",
       "        28500,  13490,  13500,  38990,  27900,  29950,   7987,  21999,\n",
       "        33999,  35990,   3699,  50650,  56699,  22499,  15000,  32490,\n",
       "        57915,  18690,  18599,  14730,   9195,   5499,  11490,   6670,\n",
       "         7935,  14979,   8490,   4499,   4999,   5899,   6850,  22990,\n",
       "         8890,   5850,  17990,  11994,   8290,   5699,   7420,   7180,\n",
       "        15499,   9490,   9399,  24860,   8480,  12800,  13740,   8049,\n",
       "         7799,  10500,   6799,   8929,  16900,   6319,   7199,  12722,\n",
       "         8948,   4290,   5994,  29990,    994,   5450,  14933,   7250,\n",
       "        25900,  16541,   8599,  12639,   6249,  17979,  23900,   9630,\n",
       "         4990,  15998,   6800,   7400,   4695,  45999,   7190,   4400,\n",
       "         7916,  11936,   3238,   6399,   6666,   9000,   5000,   5399,\n",
       "         4299,   6539,  13895,   6998,   4795,   2899,   7490,  13667,\n",
       "        11735,  13606,  27390,   6700,  42021,  13677,  11250,   8891,\n",
       "         3499,  21450,   5199,  10800,   9899,  15410,  21490,   5555,\n",
       "        19660,  17172,   5500,   6933,   6690,   6299,   7433,   6190,\n",
       "         3900,   5709,   4672,   5930,   4240,   4199,   5350,   4229,\n",
       "         4991,   3399,   7099,   6200,   7399,   4399,   8966,   8920,\n",
       "         6900,   8200,  12499,   8440,   4590,   4899,  14980,   3968,\n",
       "         3740,   8556,   5385,  14770,  13300,  10200,   4799,  13000,\n",
       "         4500,   2999,   6199,   9500,  34915,   3500,   7000,  11000,\n",
       "         7500,   7800,   7200,   4150,   5599,  13899,   3490,  21990,\n",
       "         5888,  10490,   3199,   4495,  18490,   3632,  19000,   5040,\n",
       "         3299,  12494,  18748,   6495,  16818,  18138,   7494,  14534,\n",
       "        17490,   9960,   8300,  14153,  22500,   3190,   3850,   1999,\n",
       "         6300,   2590,   3250,   4599,   6000,   2699,   4444,  73999,\n",
       "        92999,   4829, 174990,  66999,   7149,   3899,   6694,  83900,\n",
       "        69500,  96900,  20900,  13980,   8099,  77299,  12480,   9550,\n",
       "         4450,  14450,  26990,   5290,   9900,   6488, 164999,   4488,\n",
       "         4649,   8349,   3751,  14299,   3790,   3400,   3539,  10870,\n",
       "         8961,   3990,   9950,   4699,   3099,  54990,   4490,   8899,\n",
       "        14229,   4840,   4900,   3749,   4890,   4350,  20800,  13950,\n",
       "        19490,   3450,   7450,   7994,  17600,   9790,   7900,   5300,\n",
       "        10399,  19994,   4294,   3789,  11849,   8875,  74990,   4378,\n",
       "         6924,   3675,   7706,   7950,  10640,   3890,   6600,  12900,\n",
       "         4540,  57900,  67900,   8226,   7249,   3599,   3799,  73300,\n",
       "        74164,   4470,   6290,   4190,   2550,   6729,   2340,   4790,\n",
       "         5295,   4970,   3800,   2450,   5935,   3282,   2299,   3970,\n",
       "         4725,   5279,   4321,   5410,   2950,   3480,   3290,   5891,\n",
       "         6195,   7040,   6604,   4950,  27990,  44990,   4390,   6449,\n",
       "         2499,   2599,   2900,  14000,   3950,   4978,   4995,   8666,\n",
       "         3880,   2754,   4610,   4895,  28000,   3590,   5440,   4099,\n",
       "         3690,   4879,   6888,   3980,  11046,   5831,   3860,   6506,\n",
       "         6326,   6110,   4625,   3389,   4888,   6789,   9993,   6629,\n",
       "         7142,   4960,   4105,   6100,   2359,   4880,   3935,   9049,\n",
       "         7160,   5668,   6450,   5200,  15026,   2690,   4095,   4050,\n",
       "         6099,   7599,   5900,  29124,   5550,  27600,  11100,   5099,\n",
       "         4598,  53983,   3739,  11200,   4289,   6772,   5429,   5849,\n",
       "        16699,   6498,   3579,   5949,  10450,   4532,  12050,   6400,\n",
       "         3195,  16000,   8250,   4333,   7300,   2799,   5149,   2700,\n",
       "         4060,   7100,   2545,   7998,   2990,   4600,   2190,   3279,\n",
       "        10480,   4997,   2488,   3887,   6480,   4989,   7389,   2658,\n",
       "         6500,    494,   8399,   9700,   8299,   2639,   2399,   5430,\n",
       "         4200,   5970,   4866,   4595,   3949,   2666,   7530,   5549,\n",
       "         4750,   5890,   4800,   4006,   9751,  19980,   2199,  13450,\n",
       "         2200,   3333,   6760,   9980,   4559,   3840,   7890,  88719,\n",
       "         6849,   7980,   4949,   7679,   5299,   3995,   9099,   7750,\n",
       "        13988,   3449,   4690,   4777,   3998,   3994,   8700,   6390,\n",
       "         4090,   6490,  11586,   2490,   9977,   4655,   3549,   9300,\n",
       "         2240,   5398,  41390,   4300,   9001,   4295,  57500,   5750,\n",
       "         5649,   2222,   4650,   5830,   4449,   2000,   2984,  15300,\n",
       "         5529,   2940,   2498])"
      ]
     },
     "execution_count": 25,
     "metadata": {},
     "output_type": "execute_result"
    }
   ],
   "source": [
    "data['price'].unique()"
   ]
  },
  {
   "cell_type": "markdown",
   "id": "bd2a4152",
   "metadata": {},
   "source": [
    "Changing currency from Rupees to euros and rounding them up"
   ]
  },
  {
   "cell_type": "code",
   "execution_count": 26,
   "id": "36c6ac86",
   "metadata": {},
   "outputs": [],
   "source": [
    "data['price'] = data['price']*0.012"
   ]
  },
  {
   "cell_type": "code",
   "execution_count": 27,
   "id": "d86d7dd7",
   "metadata": {},
   "outputs": [],
   "source": [
    "data['price'] = data['price'].round(2)"
   ]
  },
  {
   "cell_type": "code",
   "execution_count": 28,
   "id": "bbd32e28",
   "metadata": {},
   "outputs": [],
   "source": [
    "def format_value(val):\n",
    "    return '{:.2f}'.format(val)\n",
    "\n",
    "data['price'] = data['price'].map(format_value)"
   ]
  },
  {
   "cell_type": "code",
   "execution_count": 29,
   "id": "844c0b59",
   "metadata": {},
   "outputs": [
    {
     "data": {
      "text/plain": [
       "array(['707.98', '335.99', '1282.80', '754.80', '599.88', '419.16',\n",
       "       '635.88', '956.39', '455.99', '278.28', '287.88', '179.99',\n",
       "       '231.38', '479.94', '443.88', '167.99', '651.36', '117.59',\n",
       "       '767.88', '359.99', '383.99', '545.99', '839.99', '719.99',\n",
       "       '575.88', '683.99', '119.88', '419.99', '227.99', '112.19',\n",
       "       '144.00', '323.99', '599.99', '443.99', '564.00', '251.99',\n",
       "       '647.88', '179.93', '360.00', '323.93', '239.99', '203.99',\n",
       "       '371.88', '242.95', '275.99', '539.99', '299.99', '479.95',\n",
       "       '287.99', '83.93', '515.98', '311.88', '71.94', '87.59', '311.99',\n",
       "       '47.99', '95.99', '83.99', '191.99', '479.99', '107.99', '467.99',\n",
       "       '253.80', '131.88', '119.99', '314.64', '575.99', '155.99',\n",
       "       '191.88', '277.20', '184.52', '199.80', '143.99', '103.20',\n",
       "       '155.88', '142.14', '202.55', '103.79', '164.28', '431.99',\n",
       "       '143.88', '267.59', '479.88', '215.68', '116.39', '87.98',\n",
       "       '113.99', '301.44', '371.99', '216.00', '264.00', '142.80',\n",
       "       '141.24', '197.88', '114.96', '179.88', '255.59', '709.08',\n",
       "       '216.13', '123.59', '107.88', '203.88', '227.88', '219.48',\n",
       "       '106.19', '190.79', '190.80', '125.99', '341.99', '83.88',\n",
       "       '419.88', '155.93', '119.93', '150.00', '102.00', '77.99',\n",
       "       '104.39', '14.99', '118.68', '71.88', '209.99', '211.03', '167.88',\n",
       "       '402.00', '130.80', '186.00', '655.98', '137.99', '191.94',\n",
       "       '96.00', '65.88', '71.99', '101.99', '89.99', '93.48', '131.99',\n",
       "       '239.88', '82.79', '361.79', '215.99', '95.88', '159.59', '317.99',\n",
       "       '306.00', '342.00', '161.88', '162.00', '467.88', '334.80',\n",
       "       '359.40', '95.84', '263.99', '407.99', '431.88', '44.39', '607.80',\n",
       "       '680.39', '269.99', '180.00', '389.88', '694.98', '224.28',\n",
       "       '223.19', '176.76', '110.34', '65.99', '137.88', '80.04', '95.22',\n",
       "       '179.75', '101.88', '53.99', '59.99', '70.79', '82.20', '275.88',\n",
       "       '106.68', '70.20', '215.88', '143.93', '99.48', '68.39', '89.04',\n",
       "       '86.16', '185.99', '113.88', '112.79', '298.32', '101.76',\n",
       "       '153.60', '164.88', '96.59', '93.59', '126.00', '81.59', '107.15',\n",
       "       '202.80', '75.83', '86.39', '152.66', '107.38', '51.48', '71.93',\n",
       "       '359.88', '11.93', '65.40', '179.20', '87.00', '310.80', '198.49',\n",
       "       '103.19', '151.67', '74.99', '215.75', '286.80', '115.56', '59.88',\n",
       "       '191.98', '81.60', '88.80', '56.34', '551.99', '86.28', '52.80',\n",
       "       '94.99', '143.23', '38.86', '76.79', '79.99', '108.00', '60.00',\n",
       "       '64.79', '51.59', '78.47', '166.74', '83.98', '57.54', '34.79',\n",
       "       '89.88', '164.00', '140.82', '163.27', '328.68', '80.40', '504.25',\n",
       "       '164.12', '135.00', '106.69', '41.99', '257.40', '62.39', '129.60',\n",
       "       '118.79', '184.92', '257.88', '66.66', '235.92', '206.06', '66.00',\n",
       "       '83.20', '80.28', '75.59', '89.20', '74.28', '46.80', '68.51',\n",
       "       '56.06', '71.16', '50.88', '50.39', '64.20', '50.75', '59.89',\n",
       "       '40.79', '85.19', '74.40', '88.79', '52.79', '107.59', '107.04',\n",
       "       '82.80', '98.40', '149.99', '101.28', '55.08', '58.79', '179.76',\n",
       "       '47.62', '44.88', '102.67', '64.62', '177.24', '159.60', '122.40',\n",
       "       '57.59', '156.00', '54.00', '35.99', '74.39', '114.00', '418.98',\n",
       "       '42.00', '84.00', '132.00', '90.00', '93.60', '86.40', '49.80',\n",
       "       '67.19', '166.79', '41.88', '263.88', '70.66', '125.88', '38.39',\n",
       "       '53.94', '221.88', '43.58', '228.00', '60.48', '39.59', '149.93',\n",
       "       '224.98', '77.94', '201.82', '217.66', '89.93', '174.41', '209.88',\n",
       "       '119.52', '99.60', '169.84', '270.00', '38.28', '46.20', '23.99',\n",
       "       '75.60', '31.08', '39.00', '55.19', '72.00', '32.39', '53.33',\n",
       "       '887.99', '1115.99', '57.95', '2099.88', '803.99', '85.79',\n",
       "       '46.79', '80.33', '1006.80', '834.00', '1162.80', '250.80',\n",
       "       '167.76', '97.19', '927.59', '149.76', '114.60', '53.40', '173.40',\n",
       "       '323.88', '63.48', '118.80', '77.86', '1979.99', '53.86', '55.79',\n",
       "       '100.19', '45.01', '171.59', '45.48', '40.80', '42.47', '130.44',\n",
       "       '107.53', '47.88', '119.40', '56.39', '37.19', '659.88', '53.88',\n",
       "       '106.79', '170.75', '58.08', '58.80', '44.99', '58.68', '52.20',\n",
       "       '249.60', '167.40', '233.88', '41.40', '89.40', '95.93', '211.20',\n",
       "       '117.48', '94.80', '63.60', '124.79', '239.93', '51.53', '45.47',\n",
       "       '142.19', '106.50', '899.88', '52.54', '83.09', '44.10', '92.47',\n",
       "       '95.40', '127.68', '46.68', '79.20', '154.80', '54.48', '694.80',\n",
       "       '814.80', '98.71', '86.99', '43.19', '45.59', '879.60', '889.97',\n",
       "       '53.64', '75.48', '50.28', '30.60', '80.75', '28.08', '57.48',\n",
       "       '63.54', '59.64', '45.60', '29.40', '71.22', '39.38', '27.59',\n",
       "       '47.64', '56.70', '63.35', '51.85', '64.92', '35.40', '41.76',\n",
       "       '39.48', '70.69', '74.34', '84.48', '79.25', '59.40', '335.88',\n",
       "       '539.88', '52.68', '77.39', '29.99', '31.19', '34.80', '168.00',\n",
       "       '47.40', '59.74', '59.94', '103.99', '46.56', '33.05', '55.32',\n",
       "       '58.74', '336.00', '43.08', '65.28', '49.19', '44.28', '58.55',\n",
       "       '82.66', '47.76', '132.55', '69.97', '46.32', '78.07', '75.91',\n",
       "       '73.32', '55.50', '40.67', '58.66', '81.47', '119.92', '79.55',\n",
       "       '85.70', '59.52', '49.26', '73.20', '28.31', '58.56', '47.22',\n",
       "       '108.59', '85.92', '68.02', '77.40', '62.40', '180.31', '32.28',\n",
       "       '49.14', '48.60', '73.19', '91.19', '70.80', '349.49', '66.60',\n",
       "       '331.20', '133.20', '61.19', '55.18', '647.80', '44.87', '134.40',\n",
       "       '51.47', '81.26', '65.15', '70.19', '200.39', '77.98', '42.95',\n",
       "       '71.39', '125.40', '54.38', '144.60', '76.80', '38.34', '192.00',\n",
       "       '99.00', '52.00', '87.60', '33.59', '61.79', '32.40', '48.72',\n",
       "       '85.20', '30.54', '95.98', '35.88', '55.20', '26.28', '39.35',\n",
       "       '125.76', '59.96', '29.86', '46.64', '77.76', '59.87', '88.67',\n",
       "       '31.90', '78.00', '5.93', '100.79', '116.40', '99.59', '31.67',\n",
       "       '28.79', '65.16', '50.40', '71.64', '58.39', '55.14', '47.39',\n",
       "       '31.99', '90.36', '66.59', '57.00', '70.68', '57.60', '48.07',\n",
       "       '117.01', '239.76', '26.39', '161.40', '26.40', '40.00', '81.12',\n",
       "       '119.76', '54.71', '46.08', '94.68', '1064.63', '82.19', '95.76',\n",
       "       '59.39', '92.15', '63.59', '47.94', '109.19', '93.00', '167.86',\n",
       "       '41.39', '56.28', '57.32', '47.98', '47.93', '104.40', '76.68',\n",
       "       '49.08', '77.88', '139.03', '29.88', '119.72', '55.86', '42.59',\n",
       "       '111.60', '26.88', '64.78', '496.68', '51.60', '108.01', '51.54',\n",
       "       '690.00', '69.00', '67.79', '26.66', '55.80', '69.96', '53.39',\n",
       "       '24.00', '35.81', '183.60', '66.35', '35.28', '29.98'],\n",
       "      dtype=object)"
      ]
     },
     "execution_count": 29,
     "metadata": {},
     "output_type": "execute_result"
    }
   ],
   "source": [
    "data['price'].unique()"
   ]
  },
  {
   "cell_type": "code",
   "execution_count": 32,
   "id": "0f47ffb3",
   "metadata": {},
   "outputs": [],
   "source": [
    "data.to_csv('../Data_bases/data_for_clustering.csv', index=False)"
   ]
  },
  {
   "cell_type": "code",
   "execution_count": null,
   "id": "d6ca3871",
   "metadata": {},
   "outputs": [],
   "source": []
  }
 ],
 "metadata": {
  "kernelspec": {
   "display_name": "env",
   "language": "python",
   "name": "env"
  },
  "language_info": {
   "codemirror_mode": {
    "name": "ipython",
    "version": 3
   },
   "file_extension": ".py",
   "mimetype": "text/x-python",
   "name": "python",
   "nbconvert_exporter": "python",
   "pygments_lexer": "ipython3",
   "version": "3.9.13"
  }
 },
 "nbformat": 4,
 "nbformat_minor": 5
}
