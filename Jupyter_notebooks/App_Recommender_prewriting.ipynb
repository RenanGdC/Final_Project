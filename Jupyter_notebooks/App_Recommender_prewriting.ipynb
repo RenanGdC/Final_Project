{
 "cells": [
  {
   "cell_type": "code",
   "execution_count": 44,
   "id": "742a1156",
   "metadata": {},
   "outputs": [
    {
     "name": "stdout",
     "output_type": "stream",
     "text": [
      "Requirement already satisfied: pillow in /Users/Renan/opt/anaconda3/lib/python3.9/site-packages (9.2.0)\r\n"
     ]
    }
   ],
   "source": [
    "#!pip install streamlit\n",
    "!pip install pillow"
   ]
  },
  {
   "cell_type": "code",
   "execution_count": 39,
   "id": "6532c270",
   "metadata": {},
   "outputs": [],
   "source": [
    "import pandas as pd\n",
    "import numpy as np\n",
    "import streamlit as st"
   ]
  },
  {
   "cell_type": "code",
   "execution_count": 40,
   "id": "1403a6a1",
   "metadata": {},
   "outputs": [],
   "source": [
    "data = pd.read_csv('../Data_bases/data_final_url.csv')"
   ]
  },
  {
   "cell_type": "code",
   "execution_count": 41,
   "id": "e95f30eb",
   "metadata": {},
   "outputs": [],
   "source": [
    "def recommender_2(performance, camera_q, battery_l, size): \n",
    "    result = data[(data[\"performance_c\"] >= performance) & (data[\"cam_c\"] >= camera_q) & \n",
    "                  (data[\"battery_t\"] <= battery_l) & (data[\"size_c\"] >= size)] \n",
    "    if len(result) == 0:\n",
    "        return result\n",
    "    else: \n",
    "        return result.sample(5) if len(result) >= 5 else result.sample(len(result))\n",
    "\n"
   ]
  },
  {
   "cell_type": "code",
   "execution_count": 43,
   "id": "1d175ed1",
   "metadata": {},
   "outputs": [
    {
     "data": {
      "text/plain": [
       "DeltaGenerator(_root_container=0, _provided_cursor=None, _parent=None, _block_type=None, _form_data=None)"
      ]
     },
     "execution_count": 43,
     "metadata": {},
     "output_type": "execute_result"
    }
   ],
   "source": [
    "st.title('Phone Recommender')"
   ]
  },
  {
   "cell_type": "code",
   "execution_count": 42,
   "id": "b56aad50",
   "metadata": {},
   "outputs": [],
   "source": [
    "def app():\n",
    "    st.title('Phone Recommender')\n",
    "\n",
    "\n",
    "    in_perf = st.slider('How important is performance for you? [1-5]', 1, 2, 3, 4, 5)\n",
    "    in_cam = st.slider('How important is camera quality for you? [1-3]', 1, 2,3)\n",
    "    in_size = st.slider('How important is size for you? [1-3]', 1, 2,3)\n",
    "    in_battery = st.slider('How important is the battery duration for you? [1-5]', 1, 2, 3, 4, 5)\n",
    "\n",
    "\n",
    "    res = recommender_2(in_perf, in_cam, in_battery, in_size)\n",
    "\n",
    "\n",
    "    if len(res) == 0:\n",
    "        st.write('No phones meet the criteria.')\n",
    "    else:\n",
    "        res = res.sort_values(by=\"price\")\n",
    "        for i in range(len(res)):\n",
    "            model = res.iloc[i]['model']\n",
    "            brand = res.iloc[i]['brand']\n",
    "            price = res.iloc[i]['price']\n",
    "            url = res.iloc[i]['url']\n",
    "            st.write(f'Recommendation {i+1}: {brand} {model} {price}€ {url}')\n"
   ]
  }
 ],
 "metadata": {
  "kernelspec": {
   "display_name": "env",
   "language": "python",
   "name": "env"
  },
  "language_info": {
   "codemirror_mode": {
    "name": "ipython",
    "version": 3
   },
   "file_extension": ".py",
   "mimetype": "text/x-python",
   "name": "python",
   "nbconvert_exporter": "python",
   "pygments_lexer": "ipython3",
   "version": "3.9.13"
  }
 },
 "nbformat": 4,
 "nbformat_minor": 5
}
