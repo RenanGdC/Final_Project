{
 "cells": [
  {
   "cell_type": "code",
   "execution_count": 1,
   "id": "bc5d8773",
   "metadata": {},
   "outputs": [],
   "source": [
    "import pandas as pd\n",
    "import numpy as np\n",
    "from sklearn.preprocessing import MinMaxScaler\n",
    "from sklearn.cluster import KMeans"
   ]
  },
  {
   "cell_type": "code",
   "execution_count": 2,
   "id": "524e5a1e",
   "metadata": {},
   "outputs": [],
   "source": [
    "data = pd.read_csv('../Data_bases/data_for_clustering.csv')"
   ]
  },
  {
   "cell_type": "markdown",
   "id": "ce6bc500",
   "metadata": {},
   "source": [
    "Scaling the data that will be used in the first cluster. \n",
    "First cluster goal:\n",
    "    Discriminate the phone models by performance."
   ]
  },
  {
   "cell_type": "code",
   "execution_count": 3,
   "id": "71493a43",
   "metadata": {},
   "outputs": [
    {
     "name": "stdout",
     "output_type": "stream",
     "text": [
      "<class 'pandas.core.frame.DataFrame'>\n",
      "RangeIndex: 1359 entries, 0 to 1358\n",
      "Data columns (total 20 columns):\n",
      " #   Column                  Non-Null Count  Dtype  \n",
      "---  ------                  --------------  -----  \n",
      " 0   brand                   1359 non-null   object \n",
      " 1   model                   1359 non-null   object \n",
      " 2   battery_capacity_(mah)  1359 non-null   int64  \n",
      " 3   screen_size_(inches)    1359 non-null   float64\n",
      " 4   touchscreen             1359 non-null   object \n",
      " 5   resolution_x            1359 non-null   int64  \n",
      " 6   resolution_y            1359 non-null   int64  \n",
      " 7   processor               1359 non-null   int64  \n",
      " 8   ram_(mb)                1359 non-null   int64  \n",
      " 9   internal_storage_(gb)   1359 non-null   float64\n",
      " 10  rear_camera             1359 non-null   float64\n",
      " 11  front_camera            1359 non-null   float64\n",
      " 12  operating_system        1359 non-null   object \n",
      " 13  wi-fi                   1359 non-null   object \n",
      " 14  bluetooth               1359 non-null   object \n",
      " 15  gps                     1359 non-null   object \n",
      " 16  number_of_sims          1359 non-null   int64  \n",
      " 17  3g                      1359 non-null   object \n",
      " 18  4g/_lte                 1359 non-null   object \n",
      " 19  price                   1359 non-null   float64\n",
      "dtypes: float64(5), int64(6), object(9)\n",
      "memory usage: 212.5+ KB\n"
     ]
    }
   ],
   "source": [
    "data.info()"
   ]
  },
  {
   "cell_type": "code",
   "execution_count": 4,
   "id": "4bcd7d7a",
   "metadata": {},
   "outputs": [],
   "source": [
    "data_cluster_perf_df = data[['processor','ram_(mb)','internal_storage_(gb)']]"
   ]
  },
  {
   "cell_type": "code",
   "execution_count": 5,
   "id": "deb26f0a",
   "metadata": {},
   "outputs": [],
   "source": [
    "#Use standard scaler on columns\n",
    "transformer = MinMaxScaler().fit(data_cluster_perf_df)\n",
    "data_cluster_perf_scaled = transformer.transform(data_cluster_perf_df)\n",
    "\n",
    "data_cluster_perf_scaled = pd.DataFrame(data_cluster_perf_scaled, columns=data_cluster_perf_df.columns)"
   ]
  },
  {
   "cell_type": "markdown",
   "id": "2b175470",
   "metadata": {},
   "source": [
    "Using the KMeans to cluster the chosen columns"
   ]
  },
  {
   "cell_type": "code",
   "execution_count": 6,
   "id": "ede0695d",
   "metadata": {},
   "outputs": [
    {
     "data": {
      "text/plain": [
       "array([2, 5, 5, ..., 4, 4, 1], dtype=int32)"
      ]
     },
     "execution_count": 6,
     "metadata": {},
     "output_type": "execute_result"
    }
   ],
   "source": [
    "model = KMeans(n_clusters=6)\n",
    "yhat = model.fit_predict(data_cluster_perf_scaled)\n",
    "model.cluster_centers_ # the coordinates of the centroid of each cluster in the scaled features. But you can undo the \n",
    "# scaling to see the coordinates of each centroid in the original features.\"scaler.inverse_transform(scaled_features)\" \n",
    "yhat"
   ]
  },
  {
   "cell_type": "markdown",
   "id": "a6dab220",
   "metadata": {},
   "source": [
    "Adding the clusters to the data base:"
   ]
  },
  {
   "cell_type": "code",
   "execution_count": 7,
   "id": "91e9c743",
   "metadata": {},
   "outputs": [],
   "source": [
    "data['performance_c'] = yhat"
   ]
  },
  {
   "cell_type": "code",
   "execution_count": 8,
   "id": "549c2ef7",
   "metadata": {},
   "outputs": [
    {
     "data": {
      "text/plain": [
       "array([2, 5, 0, 4, 3, 1], dtype=int32)"
      ]
     },
     "execution_count": 8,
     "metadata": {},
     "output_type": "execute_result"
    }
   ],
   "source": [
    "data['performance_c'].unique()"
   ]
  },
  {
   "cell_type": "markdown",
   "id": "fa797a9b",
   "metadata": {},
   "source": [
    "Checking the clusters:"
   ]
  },
  {
   "cell_type": "code",
   "execution_count": 9,
   "id": "4f8fefed",
   "metadata": {},
   "outputs": [
    {
     "data": {
      "text/html": [
       "<div>\n",
       "<style scoped>\n",
       "    .dataframe tbody tr th:only-of-type {\n",
       "        vertical-align: middle;\n",
       "    }\n",
       "\n",
       "    .dataframe tbody tr th {\n",
       "        vertical-align: top;\n",
       "    }\n",
       "\n",
       "    .dataframe thead th {\n",
       "        text-align: right;\n",
       "    }\n",
       "</style>\n",
       "<table border=\"1\" class=\"dataframe\">\n",
       "  <thead>\n",
       "    <tr style=\"text-align: right;\">\n",
       "      <th></th>\n",
       "      <th>processor</th>\n",
       "      <th>ram_(mb)</th>\n",
       "      <th>internal_storage_(gb)</th>\n",
       "      <th>performance_c</th>\n",
       "    </tr>\n",
       "  </thead>\n",
       "  <tbody>\n",
       "    <tr>\n",
       "      <th>0</th>\n",
       "      <td>8</td>\n",
       "      <td>12000</td>\n",
       "      <td>256.000</td>\n",
       "      <td>2</td>\n",
       "    </tr>\n",
       "    <tr>\n",
       "      <th>1</th>\n",
       "      <td>8</td>\n",
       "      <td>6000</td>\n",
       "      <td>64.000</td>\n",
       "      <td>5</td>\n",
       "    </tr>\n",
       "    <tr>\n",
       "      <th>2</th>\n",
       "      <td>6</td>\n",
       "      <td>4000</td>\n",
       "      <td>64.000</td>\n",
       "      <td>5</td>\n",
       "    </tr>\n",
       "    <tr>\n",
       "      <th>3</th>\n",
       "      <td>6</td>\n",
       "      <td>4000</td>\n",
       "      <td>64.000</td>\n",
       "      <td>5</td>\n",
       "    </tr>\n",
       "    <tr>\n",
       "      <th>4</th>\n",
       "      <td>8</td>\n",
       "      <td>6000</td>\n",
       "      <td>128.000</td>\n",
       "      <td>2</td>\n",
       "    </tr>\n",
       "    <tr>\n",
       "      <th>...</th>\n",
       "      <td>...</td>\n",
       "      <td>...</td>\n",
       "      <td>...</td>\n",
       "      <td>...</td>\n",
       "    </tr>\n",
       "    <tr>\n",
       "      <th>1354</th>\n",
       "      <td>4</td>\n",
       "      <td>512</td>\n",
       "      <td>8.000</td>\n",
       "      <td>1</td>\n",
       "    </tr>\n",
       "    <tr>\n",
       "      <th>1355</th>\n",
       "      <td>4</td>\n",
       "      <td>1000</td>\n",
       "      <td>8.000</td>\n",
       "      <td>1</td>\n",
       "    </tr>\n",
       "    <tr>\n",
       "      <th>1356</th>\n",
       "      <td>2</td>\n",
       "      <td>512</td>\n",
       "      <td>4.000</td>\n",
       "      <td>4</td>\n",
       "    </tr>\n",
       "    <tr>\n",
       "      <th>1357</th>\n",
       "      <td>1</td>\n",
       "      <td>256</td>\n",
       "      <td>0.512</td>\n",
       "      <td>4</td>\n",
       "    </tr>\n",
       "    <tr>\n",
       "      <th>1358</th>\n",
       "      <td>4</td>\n",
       "      <td>1000</td>\n",
       "      <td>8.000</td>\n",
       "      <td>1</td>\n",
       "    </tr>\n",
       "  </tbody>\n",
       "</table>\n",
       "<p>1359 rows × 4 columns</p>\n",
       "</div>"
      ],
      "text/plain": [
       "      processor  ram_(mb)  internal_storage_(gb)  performance_c\n",
       "0             8     12000                256.000              2\n",
       "1             8      6000                 64.000              5\n",
       "2             6      4000                 64.000              5\n",
       "3             6      4000                 64.000              5\n",
       "4             8      6000                128.000              2\n",
       "...         ...       ...                    ...            ...\n",
       "1354          4       512                  8.000              1\n",
       "1355          4      1000                  8.000              1\n",
       "1356          2       512                  4.000              4\n",
       "1357          1       256                  0.512              4\n",
       "1358          4      1000                  8.000              1\n",
       "\n",
       "[1359 rows x 4 columns]"
      ]
     },
     "execution_count": 9,
     "metadata": {},
     "output_type": "execute_result"
    }
   ],
   "source": [
    "data.loc[:,['processor','ram_(mb)','internal_storage_(gb)','performance_c']]"
   ]
  },
  {
   "cell_type": "code",
   "execution_count": 10,
   "id": "26f7b447",
   "metadata": {
    "scrolled": true
   },
   "outputs": [
    {
     "data": {
      "text/html": [
       "<div>\n",
       "<style scoped>\n",
       "    .dataframe tbody tr th:only-of-type {\n",
       "        vertical-align: middle;\n",
       "    }\n",
       "\n",
       "    .dataframe tbody tr th {\n",
       "        vertical-align: top;\n",
       "    }\n",
       "\n",
       "    .dataframe thead th {\n",
       "        text-align: right;\n",
       "    }\n",
       "</style>\n",
       "<table border=\"1\" class=\"dataframe\">\n",
       "  <thead>\n",
       "    <tr style=\"text-align: right;\">\n",
       "      <th></th>\n",
       "      <th>processor</th>\n",
       "    </tr>\n",
       "    <tr>\n",
       "      <th>performance_c</th>\n",
       "      <th></th>\n",
       "    </tr>\n",
       "  </thead>\n",
       "  <tbody>\n",
       "    <tr>\n",
       "      <th>4</th>\n",
       "      <td>1.517241</td>\n",
       "    </tr>\n",
       "    <tr>\n",
       "      <th>1</th>\n",
       "      <td>4.000000</td>\n",
       "    </tr>\n",
       "    <tr>\n",
       "      <th>3</th>\n",
       "      <td>4.024316</td>\n",
       "    </tr>\n",
       "    <tr>\n",
       "      <th>2</th>\n",
       "      <td>7.873016</td>\n",
       "    </tr>\n",
       "    <tr>\n",
       "      <th>5</th>\n",
       "      <td>7.952607</td>\n",
       "    </tr>\n",
       "    <tr>\n",
       "      <th>0</th>\n",
       "      <td>7.955272</td>\n",
       "    </tr>\n",
       "  </tbody>\n",
       "</table>\n",
       "</div>"
      ],
      "text/plain": [
       "               processor\n",
       "performance_c           \n",
       "4               1.517241\n",
       "1               4.000000\n",
       "3               4.024316\n",
       "2               7.873016\n",
       "5               7.952607\n",
       "0               7.955272"
      ]
     },
     "execution_count": 10,
     "metadata": {},
     "output_type": "execute_result"
    }
   ],
   "source": [
    "data.groupby('performance_c').agg({'processor':'mean'}).sort_values(by=\"processor\")"
   ]
  },
  {
   "cell_type": "code",
   "execution_count": 11,
   "id": "03cfe5a4",
   "metadata": {},
   "outputs": [],
   "source": [
    "data['performance_c'] = data['performance_c'].replace([4,1,3,2,5,0],[6,7,8,9,10,11])"
   ]
  },
  {
   "cell_type": "code",
   "execution_count": 12,
   "id": "26c131d6",
   "metadata": {
    "scrolled": true
   },
   "outputs": [
    {
     "data": {
      "text/html": [
       "<div>\n",
       "<style scoped>\n",
       "    .dataframe tbody tr th:only-of-type {\n",
       "        vertical-align: middle;\n",
       "    }\n",
       "\n",
       "    .dataframe tbody tr th {\n",
       "        vertical-align: top;\n",
       "    }\n",
       "\n",
       "    .dataframe thead th {\n",
       "        text-align: right;\n",
       "    }\n",
       "</style>\n",
       "<table border=\"1\" class=\"dataframe\">\n",
       "  <thead>\n",
       "    <tr style=\"text-align: right;\">\n",
       "      <th></th>\n",
       "      <th>processor</th>\n",
       "    </tr>\n",
       "    <tr>\n",
       "      <th>performance_c</th>\n",
       "      <th></th>\n",
       "    </tr>\n",
       "  </thead>\n",
       "  <tbody>\n",
       "    <tr>\n",
       "      <th>6</th>\n",
       "      <td>1.517241</td>\n",
       "    </tr>\n",
       "    <tr>\n",
       "      <th>7</th>\n",
       "      <td>4.000000</td>\n",
       "    </tr>\n",
       "    <tr>\n",
       "      <th>8</th>\n",
       "      <td>4.024316</td>\n",
       "    </tr>\n",
       "    <tr>\n",
       "      <th>9</th>\n",
       "      <td>7.873016</td>\n",
       "    </tr>\n",
       "    <tr>\n",
       "      <th>10</th>\n",
       "      <td>7.952607</td>\n",
       "    </tr>\n",
       "    <tr>\n",
       "      <th>11</th>\n",
       "      <td>7.955272</td>\n",
       "    </tr>\n",
       "  </tbody>\n",
       "</table>\n",
       "</div>"
      ],
      "text/plain": [
       "               processor\n",
       "performance_c           \n",
       "6               1.517241\n",
       "7               4.000000\n",
       "8               4.024316\n",
       "9               7.873016\n",
       "10              7.952607\n",
       "11              7.955272"
      ]
     },
     "execution_count": 12,
     "metadata": {},
     "output_type": "execute_result"
    }
   ],
   "source": [
    "data.groupby('performance_c').agg({'processor':'mean'}).sort_values(by=\"processor\")"
   ]
  },
  {
   "cell_type": "code",
   "execution_count": 13,
   "id": "6a0a8c5c",
   "metadata": {},
   "outputs": [],
   "source": [
    "data['performance_c'] = data['performance_c'].replace([6,7,8,9,10,11],[1,2,3,4,5,6])"
   ]
  },
  {
   "cell_type": "code",
   "execution_count": 14,
   "id": "42ff3407",
   "metadata": {},
   "outputs": [
    {
     "data": {
      "text/html": [
       "<div>\n",
       "<style scoped>\n",
       "    .dataframe tbody tr th:only-of-type {\n",
       "        vertical-align: middle;\n",
       "    }\n",
       "\n",
       "    .dataframe tbody tr th {\n",
       "        vertical-align: top;\n",
       "    }\n",
       "\n",
       "    .dataframe thead th {\n",
       "        text-align: right;\n",
       "    }\n",
       "</style>\n",
       "<table border=\"1\" class=\"dataframe\">\n",
       "  <thead>\n",
       "    <tr style=\"text-align: right;\">\n",
       "      <th></th>\n",
       "      <th>processor</th>\n",
       "    </tr>\n",
       "    <tr>\n",
       "      <th>performance_c</th>\n",
       "      <th></th>\n",
       "    </tr>\n",
       "  </thead>\n",
       "  <tbody>\n",
       "    <tr>\n",
       "      <th>1</th>\n",
       "      <td>1.517241</td>\n",
       "    </tr>\n",
       "    <tr>\n",
       "      <th>2</th>\n",
       "      <td>4.000000</td>\n",
       "    </tr>\n",
       "    <tr>\n",
       "      <th>3</th>\n",
       "      <td>4.024316</td>\n",
       "    </tr>\n",
       "    <tr>\n",
       "      <th>4</th>\n",
       "      <td>7.873016</td>\n",
       "    </tr>\n",
       "    <tr>\n",
       "      <th>5</th>\n",
       "      <td>7.952607</td>\n",
       "    </tr>\n",
       "    <tr>\n",
       "      <th>6</th>\n",
       "      <td>7.955272</td>\n",
       "    </tr>\n",
       "  </tbody>\n",
       "</table>\n",
       "</div>"
      ],
      "text/plain": [
       "               processor\n",
       "performance_c           \n",
       "1               1.517241\n",
       "2               4.000000\n",
       "3               4.024316\n",
       "4               7.873016\n",
       "5               7.952607\n",
       "6               7.955272"
      ]
     },
     "execution_count": 14,
     "metadata": {},
     "output_type": "execute_result"
    }
   ],
   "source": [
    "data.groupby('performance_c').agg({'processor':'mean'}).sort_values(by=\"processor\")"
   ]
  },
  {
   "cell_type": "markdown",
   "id": "c6c8d7b9",
   "metadata": {},
   "source": [
    "Scaling the data that will be used in the second cluster. \n",
    "Second cluster goal: \n",
    "    Discriminate the phone models by cam performance."
   ]
  },
  {
   "cell_type": "code",
   "execution_count": 15,
   "id": "641140d5",
   "metadata": {},
   "outputs": [],
   "source": [
    "data_cluster_cam_df = data[['rear_camera','front_camera']]"
   ]
  },
  {
   "cell_type": "code",
   "execution_count": 16,
   "id": "2b9ed392",
   "metadata": {},
   "outputs": [],
   "source": [
    "transformer = MinMaxScaler().fit(data_cluster_cam_df)\n",
    "data_cluster_cam_scaled = transformer.transform(data_cluster_cam_df)\n",
    "\n",
    "data_cluster_cam_scaled = pd.DataFrame(data_cluster_cam_scaled, columns=data_cluster_cam_df.columns)"
   ]
  },
  {
   "cell_type": "markdown",
   "id": "5dd9d449",
   "metadata": {},
   "source": [
    "Using the KMeans to cluster the chosen columns"
   ]
  },
  {
   "cell_type": "code",
   "execution_count": 17,
   "id": "7bed9e21",
   "metadata": {},
   "outputs": [
    {
     "data": {
      "text/plain": [
       "array([6, 2, 5, ..., 3, 3, 4], dtype=int32)"
      ]
     },
     "execution_count": 17,
     "metadata": {},
     "output_type": "execute_result"
    }
   ],
   "source": [
    "model = KMeans(n_clusters= 7)\n",
    "yhat = model.fit_predict(data_cluster_perf_scaled)\n",
    "yhat"
   ]
  },
  {
   "cell_type": "markdown",
   "id": "a1e0310c",
   "metadata": {},
   "source": [
    "Adding the clusters to the data base:"
   ]
  },
  {
   "cell_type": "code",
   "execution_count": 18,
   "id": "2f582b45",
   "metadata": {},
   "outputs": [],
   "source": [
    "data['cam_c'] = yhat"
   ]
  },
  {
   "cell_type": "code",
   "execution_count": 19,
   "id": "25589b74",
   "metadata": {},
   "outputs": [
    {
     "data": {
      "text/plain": [
       "array([6, 2, 5, 1, 3, 0, 4], dtype=int32)"
      ]
     },
     "execution_count": 19,
     "metadata": {},
     "output_type": "execute_result"
    }
   ],
   "source": [
    "data['cam_c'].unique()"
   ]
  },
  {
   "cell_type": "markdown",
   "id": "5182113b",
   "metadata": {},
   "source": [
    "Checking the clusters:"
   ]
  },
  {
   "cell_type": "code",
   "execution_count": 20,
   "id": "b524f6b2",
   "metadata": {},
   "outputs": [
    {
     "data": {
      "text/html": [
       "<div>\n",
       "<style scoped>\n",
       "    .dataframe tbody tr th:only-of-type {\n",
       "        vertical-align: middle;\n",
       "    }\n",
       "\n",
       "    .dataframe tbody tr th {\n",
       "        vertical-align: top;\n",
       "    }\n",
       "\n",
       "    .dataframe thead th {\n",
       "        text-align: right;\n",
       "    }\n",
       "</style>\n",
       "<table border=\"1\" class=\"dataframe\">\n",
       "  <thead>\n",
       "    <tr style=\"text-align: right;\">\n",
       "      <th></th>\n",
       "      <th>rear_camera</th>\n",
       "      <th>front_camera</th>\n",
       "      <th>cam_c</th>\n",
       "    </tr>\n",
       "  </thead>\n",
       "  <tbody>\n",
       "    <tr>\n",
       "      <th>0</th>\n",
       "      <td>48.0</td>\n",
       "      <td>16.0</td>\n",
       "      <td>6</td>\n",
       "    </tr>\n",
       "    <tr>\n",
       "      <th>1</th>\n",
       "      <td>64.0</td>\n",
       "      <td>16.0</td>\n",
       "      <td>2</td>\n",
       "    </tr>\n",
       "    <tr>\n",
       "      <th>2</th>\n",
       "      <td>12.0</td>\n",
       "      <td>12.0</td>\n",
       "      <td>5</td>\n",
       "    </tr>\n",
       "    <tr>\n",
       "      <th>3</th>\n",
       "      <td>12.0</td>\n",
       "      <td>12.0</td>\n",
       "      <td>5</td>\n",
       "    </tr>\n",
       "    <tr>\n",
       "      <th>4</th>\n",
       "      <td>12.0</td>\n",
       "      <td>32.0</td>\n",
       "      <td>2</td>\n",
       "    </tr>\n",
       "    <tr>\n",
       "      <th>...</th>\n",
       "      <td>...</td>\n",
       "      <td>...</td>\n",
       "      <td>...</td>\n",
       "    </tr>\n",
       "    <tr>\n",
       "      <th>1354</th>\n",
       "      <td>5.0</td>\n",
       "      <td>0.3</td>\n",
       "      <td>4</td>\n",
       "    </tr>\n",
       "    <tr>\n",
       "      <th>1355</th>\n",
       "      <td>8.0</td>\n",
       "      <td>5.0</td>\n",
       "      <td>4</td>\n",
       "    </tr>\n",
       "    <tr>\n",
       "      <th>1356</th>\n",
       "      <td>5.0</td>\n",
       "      <td>2.0</td>\n",
       "      <td>3</td>\n",
       "    </tr>\n",
       "    <tr>\n",
       "      <th>1357</th>\n",
       "      <td>2.0</td>\n",
       "      <td>0.3</td>\n",
       "      <td>3</td>\n",
       "    </tr>\n",
       "    <tr>\n",
       "      <th>1358</th>\n",
       "      <td>8.0</td>\n",
       "      <td>0.0</td>\n",
       "      <td>4</td>\n",
       "    </tr>\n",
       "  </tbody>\n",
       "</table>\n",
       "<p>1359 rows × 3 columns</p>\n",
       "</div>"
      ],
      "text/plain": [
       "      rear_camera  front_camera  cam_c\n",
       "0            48.0          16.0      6\n",
       "1            64.0          16.0      2\n",
       "2            12.0          12.0      5\n",
       "3            12.0          12.0      5\n",
       "4            12.0          32.0      2\n",
       "...           ...           ...    ...\n",
       "1354          5.0           0.3      4\n",
       "1355          8.0           5.0      4\n",
       "1356          5.0           2.0      3\n",
       "1357          2.0           0.3      3\n",
       "1358          8.0           0.0      4\n",
       "\n",
       "[1359 rows x 3 columns]"
      ]
     },
     "execution_count": 20,
     "metadata": {},
     "output_type": "execute_result"
    }
   ],
   "source": [
    "data.loc[:,['rear_camera','front_camera', 'cam_c']]"
   ]
  },
  {
   "cell_type": "code",
   "execution_count": 21,
   "id": "3bb42a82",
   "metadata": {},
   "outputs": [
    {
     "data": {
      "text/html": [
       "<div>\n",
       "<style scoped>\n",
       "    .dataframe tbody tr th:only-of-type {\n",
       "        vertical-align: middle;\n",
       "    }\n",
       "\n",
       "    .dataframe tbody tr th {\n",
       "        vertical-align: top;\n",
       "    }\n",
       "\n",
       "    .dataframe thead th {\n",
       "        text-align: right;\n",
       "    }\n",
       "</style>\n",
       "<table border=\"1\" class=\"dataframe\">\n",
       "  <thead>\n",
       "    <tr style=\"text-align: right;\">\n",
       "      <th></th>\n",
       "      <th>rear_camera</th>\n",
       "    </tr>\n",
       "    <tr>\n",
       "      <th>cam_c</th>\n",
       "      <th></th>\n",
       "    </tr>\n",
       "  </thead>\n",
       "  <tbody>\n",
       "    <tr>\n",
       "      <th>4</th>\n",
       "      <td>6.087921</td>\n",
       "    </tr>\n",
       "    <tr>\n",
       "      <th>3</th>\n",
       "      <td>6.737931</td>\n",
       "    </tr>\n",
       "    <tr>\n",
       "      <th>0</th>\n",
       "      <td>11.222796</td>\n",
       "    </tr>\n",
       "    <tr>\n",
       "      <th>1</th>\n",
       "      <td>13.471711</td>\n",
       "    </tr>\n",
       "    <tr>\n",
       "      <th>5</th>\n",
       "      <td>17.443158</td>\n",
       "    </tr>\n",
       "    <tr>\n",
       "      <th>2</th>\n",
       "      <td>23.566667</td>\n",
       "    </tr>\n",
       "    <tr>\n",
       "      <th>6</th>\n",
       "      <td>34.363636</td>\n",
       "    </tr>\n",
       "  </tbody>\n",
       "</table>\n",
       "</div>"
      ],
      "text/plain": [
       "       rear_camera\n",
       "cam_c             \n",
       "4         6.087921\n",
       "3         6.737931\n",
       "0        11.222796\n",
       "1        13.471711\n",
       "5        17.443158\n",
       "2        23.566667\n",
       "6        34.363636"
      ]
     },
     "execution_count": 21,
     "metadata": {},
     "output_type": "execute_result"
    }
   ],
   "source": [
    "data.groupby('cam_c').agg({'rear_camera':'mean'}).sort_values(by=\"rear_camera\")"
   ]
  },
  {
   "cell_type": "code",
   "execution_count": 22,
   "id": "bc1d060e",
   "metadata": {},
   "outputs": [],
   "source": [
    "data['cam_c'] = data['cam_c'].replace([4,3,0,1,5,2,6],[7,8,9,10,11,12,13])"
   ]
  },
  {
   "cell_type": "code",
   "execution_count": 23,
   "id": "097a190b",
   "metadata": {
    "scrolled": true
   },
   "outputs": [
    {
     "data": {
      "text/html": [
       "<div>\n",
       "<style scoped>\n",
       "    .dataframe tbody tr th:only-of-type {\n",
       "        vertical-align: middle;\n",
       "    }\n",
       "\n",
       "    .dataframe tbody tr th {\n",
       "        vertical-align: top;\n",
       "    }\n",
       "\n",
       "    .dataframe thead th {\n",
       "        text-align: right;\n",
       "    }\n",
       "</style>\n",
       "<table border=\"1\" class=\"dataframe\">\n",
       "  <thead>\n",
       "    <tr style=\"text-align: right;\">\n",
       "      <th></th>\n",
       "      <th>rear_camera</th>\n",
       "    </tr>\n",
       "    <tr>\n",
       "      <th>cam_c</th>\n",
       "      <th></th>\n",
       "    </tr>\n",
       "  </thead>\n",
       "  <tbody>\n",
       "    <tr>\n",
       "      <th>7</th>\n",
       "      <td>6.087921</td>\n",
       "    </tr>\n",
       "    <tr>\n",
       "      <th>8</th>\n",
       "      <td>6.737931</td>\n",
       "    </tr>\n",
       "    <tr>\n",
       "      <th>9</th>\n",
       "      <td>11.222796</td>\n",
       "    </tr>\n",
       "    <tr>\n",
       "      <th>10</th>\n",
       "      <td>13.471711</td>\n",
       "    </tr>\n",
       "    <tr>\n",
       "      <th>11</th>\n",
       "      <td>17.443158</td>\n",
       "    </tr>\n",
       "    <tr>\n",
       "      <th>12</th>\n",
       "      <td>23.566667</td>\n",
       "    </tr>\n",
       "    <tr>\n",
       "      <th>13</th>\n",
       "      <td>34.363636</td>\n",
       "    </tr>\n",
       "  </tbody>\n",
       "</table>\n",
       "</div>"
      ],
      "text/plain": [
       "       rear_camera\n",
       "cam_c             \n",
       "7         6.087921\n",
       "8         6.737931\n",
       "9        11.222796\n",
       "10       13.471711\n",
       "11       17.443158\n",
       "12       23.566667\n",
       "13       34.363636"
      ]
     },
     "execution_count": 23,
     "metadata": {},
     "output_type": "execute_result"
    }
   ],
   "source": [
    "data.groupby('cam_c').agg({'rear_camera':'mean'}).sort_values(by=\"rear_camera\")"
   ]
  },
  {
   "cell_type": "code",
   "execution_count": 24,
   "id": "e69662b7",
   "metadata": {},
   "outputs": [],
   "source": [
    "data['cam_c'] = data['cam_c'].replace([7,8,9,10,11,12,13],[1,2,3,4,5,6,7])"
   ]
  },
  {
   "cell_type": "code",
   "execution_count": 25,
   "id": "3d7de284",
   "metadata": {
    "scrolled": true
   },
   "outputs": [
    {
     "data": {
      "text/html": [
       "<div>\n",
       "<style scoped>\n",
       "    .dataframe tbody tr th:only-of-type {\n",
       "        vertical-align: middle;\n",
       "    }\n",
       "\n",
       "    .dataframe tbody tr th {\n",
       "        vertical-align: top;\n",
       "    }\n",
       "\n",
       "    .dataframe thead th {\n",
       "        text-align: right;\n",
       "    }\n",
       "</style>\n",
       "<table border=\"1\" class=\"dataframe\">\n",
       "  <thead>\n",
       "    <tr style=\"text-align: right;\">\n",
       "      <th></th>\n",
       "      <th>rear_camera</th>\n",
       "    </tr>\n",
       "    <tr>\n",
       "      <th>cam_c</th>\n",
       "      <th></th>\n",
       "    </tr>\n",
       "  </thead>\n",
       "  <tbody>\n",
       "    <tr>\n",
       "      <th>1</th>\n",
       "      <td>6.087921</td>\n",
       "    </tr>\n",
       "    <tr>\n",
       "      <th>2</th>\n",
       "      <td>6.737931</td>\n",
       "    </tr>\n",
       "    <tr>\n",
       "      <th>3</th>\n",
       "      <td>11.222796</td>\n",
       "    </tr>\n",
       "    <tr>\n",
       "      <th>4</th>\n",
       "      <td>13.471711</td>\n",
       "    </tr>\n",
       "    <tr>\n",
       "      <th>5</th>\n",
       "      <td>17.443158</td>\n",
       "    </tr>\n",
       "    <tr>\n",
       "      <th>6</th>\n",
       "      <td>23.566667</td>\n",
       "    </tr>\n",
       "    <tr>\n",
       "      <th>7</th>\n",
       "      <td>34.363636</td>\n",
       "    </tr>\n",
       "  </tbody>\n",
       "</table>\n",
       "</div>"
      ],
      "text/plain": [
       "       rear_camera\n",
       "cam_c             \n",
       "1         6.087921\n",
       "2         6.737931\n",
       "3        11.222796\n",
       "4        13.471711\n",
       "5        17.443158\n",
       "6        23.566667\n",
       "7        34.363636"
      ]
     },
     "execution_count": 25,
     "metadata": {},
     "output_type": "execute_result"
    }
   ],
   "source": [
    "data.groupby('cam_c').agg({'rear_camera':'mean'}).sort_values(by=\"rear_camera\")"
   ]
  },
  {
   "cell_type": "markdown",
   "id": "3a69cc5c",
   "metadata": {},
   "source": [
    "Scaling the data that will be used in the third cluster. Third cluster goal: Discriminate the phone models by size."
   ]
  },
  {
   "cell_type": "code",
   "execution_count": 26,
   "id": "c9e3737c",
   "metadata": {},
   "outputs": [],
   "source": [
    "data_cluster_size_df = data['screen_size_(inches)']"
   ]
  },
  {
   "cell_type": "code",
   "execution_count": 27,
   "id": "295d1996",
   "metadata": {},
   "outputs": [],
   "source": [
    "#Use standard scaler on columns\n",
    "transformer = MinMaxScaler().fit(data_cluster_size_df.values.reshape(-1, 1))\n",
    "data_cluster_cam_scaled = transformer.transform(data_cluster_size_df.values.reshape(-1, 1))\n",
    "\n",
    "data_cluster_cam_scaled_df = pd.DataFrame(data_cluster_cam_scaled, columns=[\"scaled_values\"])"
   ]
  },
  {
   "cell_type": "markdown",
   "id": "cccb9239",
   "metadata": {},
   "source": [
    "Using the KMeans to cluster the chosen columns"
   ]
  },
  {
   "cell_type": "code",
   "execution_count": 28,
   "id": "2ad57ba5",
   "metadata": {},
   "outputs": [
    {
     "data": {
      "text/plain": [
       "array([4, 4, 4, ..., 5, 2, 3], dtype=int32)"
      ]
     },
     "execution_count": 28,
     "metadata": {},
     "output_type": "execute_result"
    }
   ],
   "source": [
    "model = KMeans(n_clusters= 8)\n",
    "yhat = model.fit_predict(data_cluster_cam_scaled_df)\n",
    "yhat"
   ]
  },
  {
   "cell_type": "code",
   "execution_count": 29,
   "id": "8c2aaaad",
   "metadata": {},
   "outputs": [],
   "source": [
    "data['size_c'] = yhat"
   ]
  },
  {
   "cell_type": "code",
   "execution_count": 30,
   "id": "f3c97dd3",
   "metadata": {},
   "outputs": [
    {
     "data": {
      "text/plain": [
       "array([4, 1, 7, 0, 5, 3, 6, 2], dtype=int32)"
      ]
     },
     "execution_count": 30,
     "metadata": {},
     "output_type": "execute_result"
    }
   ],
   "source": [
    "data['size_c'].unique()"
   ]
  },
  {
   "cell_type": "code",
   "execution_count": 31,
   "id": "861004f5",
   "metadata": {},
   "outputs": [
    {
     "data": {
      "text/html": [
       "<div>\n",
       "<style scoped>\n",
       "    .dataframe tbody tr th:only-of-type {\n",
       "        vertical-align: middle;\n",
       "    }\n",
       "\n",
       "    .dataframe tbody tr th {\n",
       "        vertical-align: top;\n",
       "    }\n",
       "\n",
       "    .dataframe thead th {\n",
       "        text-align: right;\n",
       "    }\n",
       "</style>\n",
       "<table border=\"1\" class=\"dataframe\">\n",
       "  <thead>\n",
       "    <tr style=\"text-align: right;\">\n",
       "      <th></th>\n",
       "      <th>screen_size_(inches)</th>\n",
       "      <th>size_c</th>\n",
       "    </tr>\n",
       "  </thead>\n",
       "  <tbody>\n",
       "    <tr>\n",
       "      <th>0</th>\n",
       "      <td>6.67</td>\n",
       "      <td>4</td>\n",
       "    </tr>\n",
       "    <tr>\n",
       "      <th>1</th>\n",
       "      <td>6.50</td>\n",
       "      <td>4</td>\n",
       "    </tr>\n",
       "    <tr>\n",
       "      <th>2</th>\n",
       "      <td>6.50</td>\n",
       "      <td>4</td>\n",
       "    </tr>\n",
       "    <tr>\n",
       "      <th>3</th>\n",
       "      <td>6.10</td>\n",
       "      <td>1</td>\n",
       "    </tr>\n",
       "    <tr>\n",
       "      <th>4</th>\n",
       "      <td>6.40</td>\n",
       "      <td>7</td>\n",
       "    </tr>\n",
       "    <tr>\n",
       "      <th>...</th>\n",
       "      <td>...</td>\n",
       "      <td>...</td>\n",
       "    </tr>\n",
       "    <tr>\n",
       "      <th>1354</th>\n",
       "      <td>4.00</td>\n",
       "      <td>2</td>\n",
       "    </tr>\n",
       "    <tr>\n",
       "      <th>1355</th>\n",
       "      <td>5.00</td>\n",
       "      <td>3</td>\n",
       "    </tr>\n",
       "    <tr>\n",
       "      <th>1356</th>\n",
       "      <td>4.50</td>\n",
       "      <td>5</td>\n",
       "    </tr>\n",
       "    <tr>\n",
       "      <th>1357</th>\n",
       "      <td>4.00</td>\n",
       "      <td>2</td>\n",
       "    </tr>\n",
       "    <tr>\n",
       "      <th>1358</th>\n",
       "      <td>5.00</td>\n",
       "      <td>3</td>\n",
       "    </tr>\n",
       "  </tbody>\n",
       "</table>\n",
       "<p>1359 rows × 2 columns</p>\n",
       "</div>"
      ],
      "text/plain": [
       "      screen_size_(inches)  size_c\n",
       "0                     6.67       4\n",
       "1                     6.50       4\n",
       "2                     6.50       4\n",
       "3                     6.10       1\n",
       "4                     6.40       7\n",
       "...                    ...     ...\n",
       "1354                  4.00       2\n",
       "1355                  5.00       3\n",
       "1356                  4.50       5\n",
       "1357                  4.00       2\n",
       "1358                  5.00       3\n",
       "\n",
       "[1359 rows x 2 columns]"
      ]
     },
     "execution_count": 31,
     "metadata": {},
     "output_type": "execute_result"
    }
   ],
   "source": [
    "data.loc[:,['screen_size_(inches)','size_c']]"
   ]
  },
  {
   "cell_type": "code",
   "execution_count": 32,
   "id": "ece1bf68",
   "metadata": {
    "scrolled": false
   },
   "outputs": [
    {
     "data": {
      "text/html": [
       "<div>\n",
       "<style scoped>\n",
       "    .dataframe tbody tr th:only-of-type {\n",
       "        vertical-align: middle;\n",
       "    }\n",
       "\n",
       "    .dataframe tbody tr th {\n",
       "        vertical-align: top;\n",
       "    }\n",
       "\n",
       "    .dataframe thead th {\n",
       "        text-align: right;\n",
       "    }\n",
       "</style>\n",
       "<table border=\"1\" class=\"dataframe\">\n",
       "  <thead>\n",
       "    <tr style=\"text-align: right;\">\n",
       "      <th></th>\n",
       "      <th>screen_size_(inches)</th>\n",
       "    </tr>\n",
       "    <tr>\n",
       "      <th>size_c</th>\n",
       "      <th></th>\n",
       "    </tr>\n",
       "  </thead>\n",
       "  <tbody>\n",
       "    <tr>\n",
       "      <th>6</th>\n",
       "      <td>2.808182</td>\n",
       "    </tr>\n",
       "    <tr>\n",
       "      <th>2</th>\n",
       "      <td>3.968354</td>\n",
       "    </tr>\n",
       "    <tr>\n",
       "      <th>5</th>\n",
       "      <td>4.548359</td>\n",
       "    </tr>\n",
       "    <tr>\n",
       "      <th>3</th>\n",
       "      <td>5.032691</td>\n",
       "    </tr>\n",
       "    <tr>\n",
       "      <th>0</th>\n",
       "      <td>5.525199</td>\n",
       "    </tr>\n",
       "    <tr>\n",
       "      <th>1</th>\n",
       "      <td>5.976476</td>\n",
       "    </tr>\n",
       "    <tr>\n",
       "      <th>7</th>\n",
       "      <td>6.290219</td>\n",
       "    </tr>\n",
       "    <tr>\n",
       "      <th>4</th>\n",
       "      <td>6.609592</td>\n",
       "    </tr>\n",
       "  </tbody>\n",
       "</table>\n",
       "</div>"
      ],
      "text/plain": [
       "        screen_size_(inches)\n",
       "size_c                      \n",
       "6                   2.808182\n",
       "2                   3.968354\n",
       "5                   4.548359\n",
       "3                   5.032691\n",
       "0                   5.525199\n",
       "1                   5.976476\n",
       "7                   6.290219\n",
       "4                   6.609592"
      ]
     },
     "execution_count": 32,
     "metadata": {},
     "output_type": "execute_result"
    }
   ],
   "source": [
    "data.groupby('size_c').agg({'screen_size_(inches)':'mean'}).sort_values(by=\"screen_size_(inches)\")"
   ]
  },
  {
   "cell_type": "code",
   "execution_count": 33,
   "id": "409635ca",
   "metadata": {},
   "outputs": [],
   "source": [
    "data['size_c'] = data['size_c'].replace([6,2,5,3,0,1,7,4],[8,9,10,11,12,13,14,15])"
   ]
  },
  {
   "cell_type": "code",
   "execution_count": 34,
   "id": "fe379dac",
   "metadata": {
    "scrolled": true
   },
   "outputs": [
    {
     "data": {
      "text/html": [
       "<div>\n",
       "<style scoped>\n",
       "    .dataframe tbody tr th:only-of-type {\n",
       "        vertical-align: middle;\n",
       "    }\n",
       "\n",
       "    .dataframe tbody tr th {\n",
       "        vertical-align: top;\n",
       "    }\n",
       "\n",
       "    .dataframe thead th {\n",
       "        text-align: right;\n",
       "    }\n",
       "</style>\n",
       "<table border=\"1\" class=\"dataframe\">\n",
       "  <thead>\n",
       "    <tr style=\"text-align: right;\">\n",
       "      <th></th>\n",
       "      <th>screen_size_(inches)</th>\n",
       "    </tr>\n",
       "    <tr>\n",
       "      <th>size_c</th>\n",
       "      <th></th>\n",
       "    </tr>\n",
       "  </thead>\n",
       "  <tbody>\n",
       "    <tr>\n",
       "      <th>8</th>\n",
       "      <td>2.808182</td>\n",
       "    </tr>\n",
       "    <tr>\n",
       "      <th>9</th>\n",
       "      <td>3.968354</td>\n",
       "    </tr>\n",
       "    <tr>\n",
       "      <th>10</th>\n",
       "      <td>4.548359</td>\n",
       "    </tr>\n",
       "    <tr>\n",
       "      <th>11</th>\n",
       "      <td>5.032691</td>\n",
       "    </tr>\n",
       "    <tr>\n",
       "      <th>12</th>\n",
       "      <td>5.525199</td>\n",
       "    </tr>\n",
       "    <tr>\n",
       "      <th>13</th>\n",
       "      <td>5.976476</td>\n",
       "    </tr>\n",
       "    <tr>\n",
       "      <th>14</th>\n",
       "      <td>6.290219</td>\n",
       "    </tr>\n",
       "    <tr>\n",
       "      <th>15</th>\n",
       "      <td>6.609592</td>\n",
       "    </tr>\n",
       "  </tbody>\n",
       "</table>\n",
       "</div>"
      ],
      "text/plain": [
       "        screen_size_(inches)\n",
       "size_c                      \n",
       "8                   2.808182\n",
       "9                   3.968354\n",
       "10                  4.548359\n",
       "11                  5.032691\n",
       "12                  5.525199\n",
       "13                  5.976476\n",
       "14                  6.290219\n",
       "15                  6.609592"
      ]
     },
     "execution_count": 34,
     "metadata": {},
     "output_type": "execute_result"
    }
   ],
   "source": [
    "data.groupby('size_c').agg({'screen_size_(inches)':'mean'}).sort_values(by=\"screen_size_(inches)\")"
   ]
  },
  {
   "cell_type": "code",
   "execution_count": 35,
   "id": "0a31c211",
   "metadata": {},
   "outputs": [],
   "source": [
    "data['size_c'] = data['size_c'].replace([8,9,10,11,12,13,14,15],[1,2,3,4,5,6,7,8])"
   ]
  },
  {
   "cell_type": "code",
   "execution_count": 36,
   "id": "d2c1b1b8",
   "metadata": {},
   "outputs": [
    {
     "data": {
      "text/html": [
       "<div>\n",
       "<style scoped>\n",
       "    .dataframe tbody tr th:only-of-type {\n",
       "        vertical-align: middle;\n",
       "    }\n",
       "\n",
       "    .dataframe tbody tr th {\n",
       "        vertical-align: top;\n",
       "    }\n",
       "\n",
       "    .dataframe thead th {\n",
       "        text-align: right;\n",
       "    }\n",
       "</style>\n",
       "<table border=\"1\" class=\"dataframe\">\n",
       "  <thead>\n",
       "    <tr style=\"text-align: right;\">\n",
       "      <th></th>\n",
       "      <th>screen_size_(inches)</th>\n",
       "    </tr>\n",
       "    <tr>\n",
       "      <th>size_c</th>\n",
       "      <th></th>\n",
       "    </tr>\n",
       "  </thead>\n",
       "  <tbody>\n",
       "    <tr>\n",
       "      <th>1</th>\n",
       "      <td>2.808182</td>\n",
       "    </tr>\n",
       "    <tr>\n",
       "      <th>2</th>\n",
       "      <td>3.968354</td>\n",
       "    </tr>\n",
       "    <tr>\n",
       "      <th>3</th>\n",
       "      <td>4.548359</td>\n",
       "    </tr>\n",
       "    <tr>\n",
       "      <th>4</th>\n",
       "      <td>5.032691</td>\n",
       "    </tr>\n",
       "    <tr>\n",
       "      <th>5</th>\n",
       "      <td>5.525199</td>\n",
       "    </tr>\n",
       "    <tr>\n",
       "      <th>6</th>\n",
       "      <td>5.976476</td>\n",
       "    </tr>\n",
       "    <tr>\n",
       "      <th>7</th>\n",
       "      <td>6.290219</td>\n",
       "    </tr>\n",
       "    <tr>\n",
       "      <th>8</th>\n",
       "      <td>6.609592</td>\n",
       "    </tr>\n",
       "  </tbody>\n",
       "</table>\n",
       "</div>"
      ],
      "text/plain": [
       "        screen_size_(inches)\n",
       "size_c                      \n",
       "1                   2.808182\n",
       "2                   3.968354\n",
       "3                   4.548359\n",
       "4                   5.032691\n",
       "5                   5.525199\n",
       "6                   5.976476\n",
       "7                   6.290219\n",
       "8                   6.609592"
      ]
     },
     "execution_count": 36,
     "metadata": {},
     "output_type": "execute_result"
    }
   ],
   "source": [
    "data.groupby('size_c').agg({'screen_size_(inches)':'mean'}).sort_values(by=\"screen_size_(inches)\")"
   ]
  },
  {
   "cell_type": "markdown",
   "id": "4851d2f0",
   "metadata": {},
   "source": [
    "Scaling the data that will be used in the forth cluster. Forth cluster goal: Discriminate the phone models by batery length."
   ]
  },
  {
   "cell_type": "code",
   "execution_count": 37,
   "id": "9731fe1e",
   "metadata": {},
   "outputs": [],
   "source": [
    "data_cluster_bat_df = data['battery_capacity_(mah)']"
   ]
  },
  {
   "cell_type": "code",
   "execution_count": 38,
   "id": "06500251",
   "metadata": {},
   "outputs": [],
   "source": [
    "#Use standard scaler on columns\n",
    "transformer = MinMaxScaler().fit(data_cluster_bat_df.values.reshape(-1, 1))\n",
    "data_cluster_bat_scaled = transformer.transform(data_cluster_bat_df.values.reshape(-1, 1))\n",
    "\n",
    "data_cluster_bat_scaled_df = pd.DataFrame(data_cluster_bat_scaled, columns=[\"scaled_values\"])"
   ]
  },
  {
   "cell_type": "markdown",
   "id": "68c84d5c",
   "metadata": {},
   "source": [
    "Using the KMeans to cluster the chosen columns:"
   ]
  },
  {
   "cell_type": "code",
   "execution_count": 39,
   "id": "63e6d7d5",
   "metadata": {},
   "outputs": [
    {
     "data": {
      "text/plain": [
       "array([1, 1, 1, ..., 3, 3, 7], dtype=int32)"
      ]
     },
     "execution_count": 39,
     "metadata": {},
     "output_type": "execute_result"
    }
   ],
   "source": [
    "model = KMeans(n_clusters= 8)\n",
    "yhat = model.fit_predict(data_cluster_bat_scaled_df)\n",
    "yhat"
   ]
  },
  {
   "cell_type": "code",
   "execution_count": 40,
   "id": "91f91dba",
   "metadata": {},
   "outputs": [],
   "source": [
    "data['battery_c'] = yhat"
   ]
  },
  {
   "cell_type": "code",
   "execution_count": 41,
   "id": "8682ba9c",
   "metadata": {
    "scrolled": true
   },
   "outputs": [
    {
     "data": {
      "text/plain": [
       "array([1, 2, 4, 5, 0, 6, 3, 7], dtype=int32)"
      ]
     },
     "execution_count": 41,
     "metadata": {},
     "output_type": "execute_result"
    }
   ],
   "source": [
    "data['battery_c'].unique()"
   ]
  },
  {
   "cell_type": "code",
   "execution_count": 42,
   "id": "6d247790",
   "metadata": {},
   "outputs": [
    {
     "data": {
      "text/html": [
       "<div>\n",
       "<style scoped>\n",
       "    .dataframe tbody tr th:only-of-type {\n",
       "        vertical-align: middle;\n",
       "    }\n",
       "\n",
       "    .dataframe tbody tr th {\n",
       "        vertical-align: top;\n",
       "    }\n",
       "\n",
       "    .dataframe thead th {\n",
       "        text-align: right;\n",
       "    }\n",
       "</style>\n",
       "<table border=\"1\" class=\"dataframe\">\n",
       "  <thead>\n",
       "    <tr style=\"text-align: right;\">\n",
       "      <th></th>\n",
       "      <th>battery_capacity_(mah)</th>\n",
       "      <th>battery_c</th>\n",
       "    </tr>\n",
       "  </thead>\n",
       "  <tbody>\n",
       "    <tr>\n",
       "      <th>0</th>\n",
       "      <td>4085</td>\n",
       "      <td>1</td>\n",
       "    </tr>\n",
       "    <tr>\n",
       "      <th>1</th>\n",
       "      <td>4000</td>\n",
       "      <td>1</td>\n",
       "    </tr>\n",
       "    <tr>\n",
       "      <th>2</th>\n",
       "      <td>3969</td>\n",
       "      <td>1</td>\n",
       "    </tr>\n",
       "    <tr>\n",
       "      <th>3</th>\n",
       "      <td>3110</td>\n",
       "      <td>2</td>\n",
       "    </tr>\n",
       "    <tr>\n",
       "      <th>4</th>\n",
       "      <td>4000</td>\n",
       "      <td>1</td>\n",
       "    </tr>\n",
       "    <tr>\n",
       "      <th>...</th>\n",
       "      <td>...</td>\n",
       "      <td>...</td>\n",
       "    </tr>\n",
       "    <tr>\n",
       "      <th>1354</th>\n",
       "      <td>1500</td>\n",
       "      <td>3</td>\n",
       "    </tr>\n",
       "    <tr>\n",
       "      <th>1355</th>\n",
       "      <td>2000</td>\n",
       "      <td>6</td>\n",
       "    </tr>\n",
       "    <tr>\n",
       "      <th>1356</th>\n",
       "      <td>1700</td>\n",
       "      <td>3</td>\n",
       "    </tr>\n",
       "    <tr>\n",
       "      <th>1357</th>\n",
       "      <td>1250</td>\n",
       "      <td>3</td>\n",
       "    </tr>\n",
       "    <tr>\n",
       "      <th>1358</th>\n",
       "      <td>2150</td>\n",
       "      <td>7</td>\n",
       "    </tr>\n",
       "  </tbody>\n",
       "</table>\n",
       "<p>1359 rows × 2 columns</p>\n",
       "</div>"
      ],
      "text/plain": [
       "      battery_capacity_(mah)  battery_c\n",
       "0                       4085          1\n",
       "1                       4000          1\n",
       "2                       3969          1\n",
       "3                       3110          2\n",
       "4                       4000          1\n",
       "...                      ...        ...\n",
       "1354                    1500          3\n",
       "1355                    2000          6\n",
       "1356                    1700          3\n",
       "1357                    1250          3\n",
       "1358                    2150          7\n",
       "\n",
       "[1359 rows x 2 columns]"
      ]
     },
     "execution_count": 42,
     "metadata": {},
     "output_type": "execute_result"
    }
   ],
   "source": [
    "data.loc[:,['battery_capacity_(mah)','battery_c']]"
   ]
  },
  {
   "cell_type": "code",
   "execution_count": 43,
   "id": "8325fa4c",
   "metadata": {},
   "outputs": [
    {
     "data": {
      "text/html": [
       "<div>\n",
       "<style scoped>\n",
       "    .dataframe tbody tr th:only-of-type {\n",
       "        vertical-align: middle;\n",
       "    }\n",
       "\n",
       "    .dataframe tbody tr th {\n",
       "        vertical-align: top;\n",
       "    }\n",
       "\n",
       "    .dataframe thead th {\n",
       "        text-align: right;\n",
       "    }\n",
       "</style>\n",
       "<table border=\"1\" class=\"dataframe\">\n",
       "  <thead>\n",
       "    <tr style=\"text-align: right;\">\n",
       "      <th></th>\n",
       "      <th>battery_capacity_(mah)</th>\n",
       "    </tr>\n",
       "    <tr>\n",
       "      <th>battery_c</th>\n",
       "      <th></th>\n",
       "    </tr>\n",
       "  </thead>\n",
       "  <tbody>\n",
       "    <tr>\n",
       "      <th>3</th>\n",
       "      <td>1473.113924</td>\n",
       "    </tr>\n",
       "    <tr>\n",
       "      <th>6</th>\n",
       "      <td>1965.291667</td>\n",
       "    </tr>\n",
       "    <tr>\n",
       "      <th>7</th>\n",
       "      <td>2289.343066</td>\n",
       "    </tr>\n",
       "    <tr>\n",
       "      <th>0</th>\n",
       "      <td>2563.733333</td>\n",
       "    </tr>\n",
       "    <tr>\n",
       "      <th>2</th>\n",
       "      <td>2992.441088</td>\n",
       "    </tr>\n",
       "    <tr>\n",
       "      <th>5</th>\n",
       "      <td>3420.076336</td>\n",
       "    </tr>\n",
       "    <tr>\n",
       "      <th>1</th>\n",
       "      <td>4009.904545</td>\n",
       "    </tr>\n",
       "    <tr>\n",
       "      <th>4</th>\n",
       "      <td>4938.108108</td>\n",
       "    </tr>\n",
       "  </tbody>\n",
       "</table>\n",
       "</div>"
      ],
      "text/plain": [
       "           battery_capacity_(mah)\n",
       "battery_c                        \n",
       "3                     1473.113924\n",
       "6                     1965.291667\n",
       "7                     2289.343066\n",
       "0                     2563.733333\n",
       "2                     2992.441088\n",
       "5                     3420.076336\n",
       "1                     4009.904545\n",
       "4                     4938.108108"
      ]
     },
     "execution_count": 43,
     "metadata": {},
     "output_type": "execute_result"
    }
   ],
   "source": [
    "data.groupby('battery_c').agg({'battery_capacity_(mah)':'mean'}).sort_values(by=\"battery_capacity_(mah)\")"
   ]
  },
  {
   "cell_type": "code",
   "execution_count": 44,
   "id": "dccf8ad9",
   "metadata": {},
   "outputs": [],
   "source": [
    "data['battery_c'] = data['battery_c'].replace([3,6,7,0,2,5,1,4],[8,9,10,11,12,13,14,15])"
   ]
  },
  {
   "cell_type": "code",
   "execution_count": 45,
   "id": "54a7e9f2",
   "metadata": {},
   "outputs": [
    {
     "data": {
      "text/html": [
       "<div>\n",
       "<style scoped>\n",
       "    .dataframe tbody tr th:only-of-type {\n",
       "        vertical-align: middle;\n",
       "    }\n",
       "\n",
       "    .dataframe tbody tr th {\n",
       "        vertical-align: top;\n",
       "    }\n",
       "\n",
       "    .dataframe thead th {\n",
       "        text-align: right;\n",
       "    }\n",
       "</style>\n",
       "<table border=\"1\" class=\"dataframe\">\n",
       "  <thead>\n",
       "    <tr style=\"text-align: right;\">\n",
       "      <th></th>\n",
       "      <th>battery_capacity_(mah)</th>\n",
       "    </tr>\n",
       "    <tr>\n",
       "      <th>battery_c</th>\n",
       "      <th></th>\n",
       "    </tr>\n",
       "  </thead>\n",
       "  <tbody>\n",
       "    <tr>\n",
       "      <th>8</th>\n",
       "      <td>1473.113924</td>\n",
       "    </tr>\n",
       "    <tr>\n",
       "      <th>9</th>\n",
       "      <td>1965.291667</td>\n",
       "    </tr>\n",
       "    <tr>\n",
       "      <th>10</th>\n",
       "      <td>2289.343066</td>\n",
       "    </tr>\n",
       "    <tr>\n",
       "      <th>11</th>\n",
       "      <td>2563.733333</td>\n",
       "    </tr>\n",
       "    <tr>\n",
       "      <th>12</th>\n",
       "      <td>2992.441088</td>\n",
       "    </tr>\n",
       "    <tr>\n",
       "      <th>13</th>\n",
       "      <td>3420.076336</td>\n",
       "    </tr>\n",
       "    <tr>\n",
       "      <th>14</th>\n",
       "      <td>4009.904545</td>\n",
       "    </tr>\n",
       "    <tr>\n",
       "      <th>15</th>\n",
       "      <td>4938.108108</td>\n",
       "    </tr>\n",
       "  </tbody>\n",
       "</table>\n",
       "</div>"
      ],
      "text/plain": [
       "           battery_capacity_(mah)\n",
       "battery_c                        \n",
       "8                     1473.113924\n",
       "9                     1965.291667\n",
       "10                    2289.343066\n",
       "11                    2563.733333\n",
       "12                    2992.441088\n",
       "13                    3420.076336\n",
       "14                    4009.904545\n",
       "15                    4938.108108"
      ]
     },
     "execution_count": 45,
     "metadata": {},
     "output_type": "execute_result"
    }
   ],
   "source": [
    "data.groupby('battery_c').agg({'battery_capacity_(mah)':'mean'}).sort_values(by=\"battery_capacity_(mah)\")"
   ]
  },
  {
   "cell_type": "code",
   "execution_count": 46,
   "id": "f89ab140",
   "metadata": {},
   "outputs": [],
   "source": [
    "data['battery_c'] = data['battery_c'].replace([8,9,10,11,12,13,14,15],[1,2,3,4,5,6,7,8])"
   ]
  },
  {
   "cell_type": "code",
   "execution_count": 47,
   "id": "6e5caf97",
   "metadata": {},
   "outputs": [
    {
     "data": {
      "text/html": [
       "<div>\n",
       "<style scoped>\n",
       "    .dataframe tbody tr th:only-of-type {\n",
       "        vertical-align: middle;\n",
       "    }\n",
       "\n",
       "    .dataframe tbody tr th {\n",
       "        vertical-align: top;\n",
       "    }\n",
       "\n",
       "    .dataframe thead th {\n",
       "        text-align: right;\n",
       "    }\n",
       "</style>\n",
       "<table border=\"1\" class=\"dataframe\">\n",
       "  <thead>\n",
       "    <tr style=\"text-align: right;\">\n",
       "      <th></th>\n",
       "      <th>battery_capacity_(mah)</th>\n",
       "    </tr>\n",
       "    <tr>\n",
       "      <th>battery_c</th>\n",
       "      <th></th>\n",
       "    </tr>\n",
       "  </thead>\n",
       "  <tbody>\n",
       "    <tr>\n",
       "      <th>1</th>\n",
       "      <td>1473.113924</td>\n",
       "    </tr>\n",
       "    <tr>\n",
       "      <th>2</th>\n",
       "      <td>1965.291667</td>\n",
       "    </tr>\n",
       "    <tr>\n",
       "      <th>3</th>\n",
       "      <td>2289.343066</td>\n",
       "    </tr>\n",
       "    <tr>\n",
       "      <th>4</th>\n",
       "      <td>2563.733333</td>\n",
       "    </tr>\n",
       "    <tr>\n",
       "      <th>5</th>\n",
       "      <td>2992.441088</td>\n",
       "    </tr>\n",
       "    <tr>\n",
       "      <th>6</th>\n",
       "      <td>3420.076336</td>\n",
       "    </tr>\n",
       "    <tr>\n",
       "      <th>7</th>\n",
       "      <td>4009.904545</td>\n",
       "    </tr>\n",
       "    <tr>\n",
       "      <th>8</th>\n",
       "      <td>4938.108108</td>\n",
       "    </tr>\n",
       "  </tbody>\n",
       "</table>\n",
       "</div>"
      ],
      "text/plain": [
       "           battery_capacity_(mah)\n",
       "battery_c                        \n",
       "1                     1473.113924\n",
       "2                     1965.291667\n",
       "3                     2289.343066\n",
       "4                     2563.733333\n",
       "5                     2992.441088\n",
       "6                     3420.076336\n",
       "7                     4009.904545\n",
       "8                     4938.108108"
      ]
     },
     "execution_count": 47,
     "metadata": {},
     "output_type": "execute_result"
    }
   ],
   "source": [
    "data.groupby('battery_c').agg({'battery_capacity_(mah)':'mean'}).sort_values(by=\"battery_capacity_(mah)\")"
   ]
  },
  {
   "cell_type": "code",
   "execution_count": 48,
   "id": "c19c571c",
   "metadata": {},
   "outputs": [],
   "source": [
    "data.to_csv('../Data_bases/data_clstered.csv', index=False)"
   ]
  },
  {
   "cell_type": "code",
   "execution_count": null,
   "id": "8e426c8d",
   "metadata": {},
   "outputs": [],
   "source": []
  }
 ],
 "metadata": {
  "kernelspec": {
   "display_name": "env",
   "language": "python",
   "name": "env"
  },
  "language_info": {
   "codemirror_mode": {
    "name": "ipython",
    "version": 3
   },
   "file_extension": ".py",
   "mimetype": "text/x-python",
   "name": "python",
   "nbconvert_exporter": "python",
   "pygments_lexer": "ipython3",
   "version": "3.9.13"
  }
 },
 "nbformat": 4,
 "nbformat_minor": 5
}
